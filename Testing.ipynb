{
 "cells": [
  {
   "cell_type": "code",
   "execution_count": 2,
   "metadata": {},
   "outputs": [],
   "source": [
    "%load_ext autoreload\n",
    "%autoreload 2"
   ]
  },
  {
   "cell_type": "code",
   "execution_count": null,
   "metadata": {},
   "outputs": [],
   "source": []
  },
  {
   "cell_type": "code",
   "execution_count": null,
   "metadata": {},
   "outputs": [],
   "source": [
    "from NeuralNetwork import NeuralNetwork\n",
    "from Layers import Dense, Conv, Reshape, sigmoid\n",
    "from tests import *\n",
    "from LayerTests.Convolutional import *\n",
    "import matplotlib.pyplot as plt\n",
    "\n",
    "\n",
    "Conv((5,5),6,2,(2,2),sigmoid,inputShape=(10,10,1))\n",
    "\n",
    "\n",
    "def runCPUKernel()"
   ]
  },
  {
   "cell_type": "code",
   "execution_count": 4,
   "metadata": {},
   "outputs": [
    {
     "name": "stdout",
     "output_type": "stream",
     "text": [
      "\u001b[91mFAILED\u001b[0m Layer 0 dw r2= 0.78, m= 1.04, b= 0.0,\n",
      "\u001b[91mFAILED\u001b[0m Layer 0 db r2= 0.38, m= 0.7, b= -0.0,\n",
      "\u001b[92mPASSED\u001b[0m Layer 1 dw r2= 1.0, m= 0.99, b= -0.0,\n",
      "\u001b[92mPASSED\u001b[0m Layer 1 db r2= 1.0, m= 0.97, b= -0.0,\n",
      "\u001b[92mPASSED\u001b[0m Layer 3 dw r2= 1.0, m= 0.99, b= -0.0,\n",
      "\u001b[92mPASSED\u001b[0m Layer 3 db r2= 1.0, m= 0.99, b= -0.0,\n"
     ]
    },
    {
     "data": {
      "text/plain": [
       "\t\t MODEL SUMMARY: \n",
       "Input: \t\t (10, 10, 1)\n",
       "Conv Layer: \t\t(5, 5, 6)\n",
       "Conv Layer: \t\t(2, 2, 6)\n",
       "Reshape Layer: \t\t(24,)\n",
       "Dense Layer: \t\t(3,)"
      ]
     },
     "execution_count": 4,
     "metadata": {},
     "output_type": "execute_result"
    }
   ],
   "source": [
    "from NeuralNetwork import NeuralNetwork\n",
    "from Layers import Dense, Conv, Reshape, sigmoid\n",
    "from tests import *\n",
    "from LayerTests.Convolutional import *\n",
    "import matplotlib.pyplot as plt\n",
    "from tests import gradientTest\n",
    "model = NeuralNetwork([Conv((5,5),6,2,(2,2),sigmoid,inputShape=(10,10,1)),\n",
    "                        #Conv((3,3),6,0,(1,1),sigmoid),\n",
    "                        Conv((2,2),6,0,(2,2),sigmoid), # GRADIENT LOCALS NOT WORKING PROPPERLY\n",
    "                        Reshape(-1), \n",
    "                        Dense(3,sigmoid)])\n",
    "\n",
    "dw,db,plotter = gradientTest(model)\n",
    "model"
   ]
  },
  {
   "cell_type": "code",
   "execution_count": 4,
   "metadata": {},
   "outputs": [
    {
     "name": "stdout",
     "output_type": "stream",
     "text": [
      "\u001b[92mPASSED\u001b[0m Layer 0 dw r2= 1.0, m= 1.01, b= -0.0,\n",
      "\u001b[92mPASSED\u001b[0m Layer 0 db r2= 1.0, m= 0.99, b= -0.0,\n",
      "\u001b[92mPASSED\u001b[0m Layer 1 dw r2= 1.0, m= 1.01, b= -0.0,\n",
      "\u001b[92mPASSED\u001b[0m Layer 1 db r2= 1.0, m= 1.04, b= -0.0,\n",
      "\u001b[92mPASSED\u001b[0m Layer 3 dw r2= 1.0, m= 0.98, b= 0.0,\n",
      "\u001b[91mFAILED\u001b[0m Layer 3 db r2= 0.99, m= 0.97, b= 0.0,\n"
     ]
    },
    {
     "data": {
      "text/plain": [
       "\t\t MODEL SUMMARY: \n",
       "Input: \t\t (10, 10, 1)\n",
       "Conv Layer: \t\t(5, 5, 6)\n",
       "Conv Layer: \t\t(4, 4, 6)\n",
       "Reshape Layer: \t\t(96,)\n",
       "Dense Layer: \t\t(3,)"
      ]
     },
     "execution_count": 4,
     "metadata": {},
     "output_type": "execute_result"
    }
   ],
   "source": [
    "from NeuralNetwork import NeuralNetwork\n",
    "from Layers import Dense, Conv, Reshape, sigmoid\n",
    "from tests import *\n",
    "from LayerTests.Convolutional import *\n",
    "import matplotlib.pyplot as plt\n",
    "from tests import gradientTest\n",
    "model = NeuralNetwork([Conv((5,5),6,2,(2,2),sigmoid,inputShape=(10,10,1)),\n",
    "                        #Conv((3,3),6,0,(1,1),sigmoid),\n",
    "                        Conv((2,2),6,0,(1,1),sigmoid),\n",
    "                        Reshape(-1), \n",
    "                        Dense(3,sigmoid)])\n",
    "\n",
    "dw,db,plotter = gradientTest(model)\n",
    "model"
   ]
  },
  {
   "cell_type": "code",
   "execution_count": 1,
   "metadata": {},
   "outputs": [
    {
     "name": "stdout",
     "output_type": "stream",
     "text": [
      "\u001b[92mPASSED\u001b[0m forwardPropagate\n",
      "\u001b[92mPASSED\u001b[0m sigmoidTest\n",
      "\u001b[92mPASSED\u001b[0m computedb\n",
      "\u001b[92mPASSED\u001b[0m computeGradients\n",
      "\u001b[92mPASSED\u001b[0m computeLocalGradient\n",
      "\u001b[92mPASSED\u001b[0m learningRule\n"
     ]
    },
    {
     "data": {
      "text/plain": [
       "(None, {})"
      ]
     },
     "execution_count": 1,
     "metadata": {},
     "output_type": "execute_result"
    }
   ],
   "source": [
    "from tests import *\n",
    "from LayerTests.Convolutional import *\n",
    "batchSize = 10\n",
    "conv = Conv((5,5),3,1,(2,2),sigmoid, inputShape=(10,10,1))\n",
    "conv.allocateMemory(batchSize)\n",
    "ym1 = Tensor(np.random.randn(batchSize,*conv.inputShape))\n",
    "sigmaOut = Tensor(np.random.randn(batchSize,*conv.outputShape))\n",
    "\n",
    "output,debugOutput = test(conv.GPUForwardPropagate,forwardPropagate,(ym1,))\n",
    "test(conv.activate,sigmoidTest,tuple())\n",
    "test(conv.computedb,computedb,(sigmaOut,))\n",
    "output,debugOutput = test(conv.computeGradients,computeGradients,(ym1,sigmaOut))\n",
    "test(conv.computeLocalGradient,computeLocalGradient,(sigmaOut,))\n",
    "test(conv.learningRule,learningRule,(np.float32(0.1),))"
   ]
  },
  {
   "cell_type": "code",
   "execution_count": 9,
   "metadata": {},
   "outputs": [
    {
     "data": {
      "text/plain": [
       "(10, 8, 8, 2)"
      ]
     },
     "execution_count": 9,
     "metadata": {},
     "output_type": "execute_result"
    }
   ],
   "source": [
    "sigmaOut.shape"
   ]
  },
  {
   "cell_type": "code",
   "execution_count": 8,
   "metadata": {},
   "outputs": [
    {
     "data": {
      "text/plain": [
       "array([[[0., 0.],\n",
       "        [1., 1.],\n",
       "        [2., 2.],\n",
       "        [3., 3.],\n",
       "        [4., 4.],\n",
       "        [5., 5.],\n",
       "        [6., 6.],\n",
       "        [7., 7.]],\n",
       "\n",
       "       [[7., 7.],\n",
       "        [8., 1.],\n",
       "        [2., 2.],\n",
       "        [3., 3.],\n",
       "        [4., 4.],\n",
       "        [5., 5.],\n",
       "        [6., 6.],\n",
       "        [7., 7.]],\n",
       "\n",
       "       [[7., 7.],\n",
       "        [8., 1.],\n",
       "        [2., 2.],\n",
       "        [3., 3.],\n",
       "        [4., 4.],\n",
       "        [5., 5.],\n",
       "        [6., 6.],\n",
       "        [7., 7.]],\n",
       "\n",
       "       [[7., 7.],\n",
       "        [8., 1.],\n",
       "        [2., 2.],\n",
       "        [3., 3.],\n",
       "        [4., 4.],\n",
       "        [5., 5.],\n",
       "        [6., 6.],\n",
       "        [7., 7.]],\n",
       "\n",
       "       [[7., 7.],\n",
       "        [8., 1.],\n",
       "        [2., 2.],\n",
       "        [3., 3.],\n",
       "        [4., 4.],\n",
       "        [5., 5.],\n",
       "        [6., 6.],\n",
       "        [7., 7.]],\n",
       "\n",
       "       [[7., 7.],\n",
       "        [8., 1.],\n",
       "        [2., 2.],\n",
       "        [3., 3.],\n",
       "        [4., 4.],\n",
       "        [5., 5.],\n",
       "        [6., 6.],\n",
       "        [7., 7.]],\n",
       "\n",
       "       [[7., 7.],\n",
       "        [8., 1.],\n",
       "        [2., 2.],\n",
       "        [3., 3.],\n",
       "        [4., 4.],\n",
       "        [5., 5.],\n",
       "        [6., 6.],\n",
       "        [7., 7.]],\n",
       "\n",
       "       [[7., 7.],\n",
       "        [8., 1.],\n",
       "        [2., 2.],\n",
       "        [3., 3.],\n",
       "        [4., 4.],\n",
       "        [5., 5.],\n",
       "        [6., 6.],\n",
       "        [7., 7.]],\n",
       "\n",
       "       [[7., 7.],\n",
       "        [8., 1.],\n",
       "        [2., 2.],\n",
       "        [3., 3.],\n",
       "        [4., 4.],\n",
       "        [5., 5.],\n",
       "        [6., 6.],\n",
       "        [7., 7.]],\n",
       "\n",
       "       [[7., 7.],\n",
       "        [8., 1.],\n",
       "        [2., 2.],\n",
       "        [3., 3.],\n",
       "        [4., 4.],\n",
       "        [5., 5.],\n",
       "        [6., 6.],\n",
       "        [7., 7.]]], dtype=float32)"
      ]
     },
     "execution_count": 8,
     "metadata": {},
     "output_type": "execute_result"
    }
   ],
   "source": [
    "sigmaOut.get()[:,:,1]"
   ]
  },
  {
   "cell_type": "code",
   "execution_count": 2,
   "metadata": {},
   "outputs": [
    {
     "ename": "NameError",
     "evalue": "name 'out2' is not defined",
     "output_type": "error",
     "traceback": [
      "\u001b[0;31m---------------------------------------------------------------------------\u001b[0m",
      "\u001b[0;31mNameError\u001b[0m                                 Traceback (most recent call last)",
      "\u001b[0;32m<ipython-input-2-759406e12ada>\u001b[0m in \u001b[0;36m<module>\u001b[0;34m\u001b[0m\n\u001b[0;32m----> 1\u001b[0;31m \u001b[0mprint\u001b[0m\u001b[0;34m(\u001b[0m\u001b[0mout2\u001b[0m\u001b[0;34m[\u001b[0m\u001b[0;34m'not accesed ym1'\u001b[0m\u001b[0;34m]\u001b[0m\u001b[0;34m[\u001b[0m\u001b[0;36m0\u001b[0m\u001b[0;34m,\u001b[0m\u001b[0;34m:\u001b[0m\u001b[0;34m,\u001b[0m\u001b[0;34m:\u001b[0m\u001b[0;34m,\u001b[0m\u001b[0;36m0\u001b[0m\u001b[0;34m]\u001b[0m\u001b[0;34m)\u001b[0m\u001b[0;34m\u001b[0m\u001b[0;34m\u001b[0m\u001b[0m\n\u001b[0m",
      "\u001b[0;31mNameError\u001b[0m: name 'out2' is not defined"
     ]
    }
   ],
   "source": [
    "print(out2['not accesed ym1'][0,:,:,0])"
   ]
  },
  {
   "cell_type": "code",
   "execution_count": null,
   "metadata": {},
   "outputs": [],
   "source": []
  }
 ],
 "metadata": {
  "kernelspec": {
   "display_name": "Python 3",
   "language": "python",
   "name": "python3"
  },
  "language_info": {
   "codemirror_mode": {
    "name": "ipython",
    "version": 3
   },
   "file_extension": ".py",
   "mimetype": "text/x-python",
   "name": "python",
   "nbconvert_exporter": "python",
   "pygments_lexer": "ipython3",
   "version": "3.8.8"
  }
 },
 "nbformat": 4,
 "nbformat_minor": 2
}
