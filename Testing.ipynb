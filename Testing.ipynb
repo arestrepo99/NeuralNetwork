{
 "cells": [
  {
   "cell_type": "code",
   "execution_count": 2,
   "metadata": {},
   "outputs": [],
   "source": [
    "%load_ext autoreload\n",
    "%autoreload 2"
   ]
  },
  {
   "cell_type": "code",
   "execution_count": 6,
   "metadata": {},
   "outputs": [
    {
     "name": "stdout",
     "output_type": "stream",
     "text": [
      "\u001b[92mPASSED\u001b[0m Layer 0 dw r2= 1.0, m= 0.5, b= -0.0,\n",
      "\u001b[92mPASSED\u001b[0m Layer 0 db r2= 1.0, m= 0.49, b= 0.0,\n",
      "\u001b[92mPASSED\u001b[0m Layer 1 dw r2= 1.0, m= 0.51, b= -0.0,\n",
      "\u001b[92mPASSED\u001b[0m Layer 1 db r2= 1.0, m= 0.52, b= 0.0,\n",
      "\u001b[92mPASSED\u001b[0m Layer 3 dw r2= 1.0, m= 0.5, b= -0.0,\n",
      "\u001b[92mPASSED\u001b[0m Layer 3 db r2= 1.0, m= 0.5, b= -0.0,\n",
      "\u001b[92mPASSED\u001b[0m Layer 5 dw r2= 1.0, m= 0.51, b= -0.0,\n",
      "\u001b[92mPASSED\u001b[0m Layer 5 db r2= 1.0, m= 0.51, b= -0.0,\n",
      "\u001b[92mPASSED\u001b[0m forwardPropagate\n",
      "\u001b[92mPASSED\u001b[0m sigmoidTest\n",
      "\u001b[92mPASSED\u001b[0m computedb\n",
      "\u001b[92mPASSED\u001b[0m computeGradients\n",
      "\u001b[92mPASSED\u001b[0m computeLocalGradient\n",
      "\u001b[92mPASSED\u001b[0m learningRule\n"
     ]
    }
   ],
   "source": [
    "%run Tests/RunTests.py"
   ]
  },
  {
   "cell_type": "code",
   "execution_count": 1,
   "metadata": {},
   "outputs": [
    {
     "ename": "NameError",
     "evalue": "name 'runCPUKernel' is not defined",
     "output_type": "error",
     "traceback": [
      "\u001b[0;31m---------------------------------------------------------------------------\u001b[0m",
      "\u001b[0;31mNameError\u001b[0m                                 Traceback (most recent call last)",
      "\u001b[0;32m<ipython-input-1-af6ffc9604ca>\u001b[0m in \u001b[0;36m<module>\u001b[0;34m\u001b[0m\n\u001b[1;32m     77\u001b[0m                         \u001b[0;34m*\u001b[0m\u001b[0mdphi\u001b[0m\u001b[0;34m[\u001b[0m\u001b[0mbatch\u001b[0m\u001b[0;34m,\u001b[0m\u001b[0mout1\u001b[0m\u001b[0;34m,\u001b[0m\u001b[0mout2\u001b[0m\u001b[0;34m,\u001b[0m\u001b[0mout3\u001b[0m\u001b[0;34m]\u001b[0m\u001b[0;34m\u001b[0m\u001b[0;34m\u001b[0m\u001b[0m\n\u001b[1;32m     78\u001b[0m \u001b[0;34m\u001b[0m\u001b[0m\n\u001b[0;32m---> 79\u001b[0;31m \u001b[0moutput\u001b[0m \u001b[0;34m=\u001b[0m \u001b[0mrunCPUKernel\u001b[0m\u001b[0;34m(\u001b[0m\u001b[0mforwardPropagate\u001b[0m\u001b[0;34m,\u001b[0m\u001b[0mconv\u001b[0m\u001b[0;34m.\u001b[0m\u001b[0mGPUForwardPropagate\u001b[0m\u001b[0;34m,\u001b[0m\u001b[0;34m(\u001b[0m\u001b[0mym1\u001b[0m\u001b[0;34m,\u001b[0m\u001b[0;34m)\u001b[0m\u001b[0;34m,\u001b[0m\u001b[0mind\u001b[0m\u001b[0;34m=\u001b[0m\u001b[0;34m[\u001b[0m\u001b[0;36m0\u001b[0m\u001b[0;34m,\u001b[0m\u001b[0;36m0\u001b[0m\u001b[0;34m,\u001b[0m\u001b[0mout1_\u001b[0m\u001b[0;34m*\u001b[0m\u001b[0mconv\u001b[0m\u001b[0;34m.\u001b[0m\u001b[0moutputShape\u001b[0m\u001b[0;34m[\u001b[0m\u001b[0;36m1\u001b[0m\u001b[0;34m]\u001b[0m\u001b[0;34m+\u001b[0m\u001b[0mout2_\u001b[0m\u001b[0;34m]\u001b[0m\u001b[0;34m)\u001b[0m\u001b[0;34m\u001b[0m\u001b[0;34m\u001b[0m\u001b[0m\n\u001b[0m\u001b[1;32m     80\u001b[0m \u001b[0mym1\u001b[0m\u001b[0;34m,\u001b[0m \u001b[0mv\u001b[0m\u001b[0;34m,\u001b[0m \u001b[0mw\u001b[0m\u001b[0;34m,\u001b[0m \u001b[0mb\u001b[0m \u001b[0;34m=\u001b[0m \u001b[0moutput\u001b[0m\u001b[0;34m[\u001b[0m\u001b[0;36m0\u001b[0m\u001b[0;34m]\u001b[0m\u001b[0;34m,\u001b[0m\u001b[0moutput\u001b[0m\u001b[0;34m[\u001b[0m\u001b[0;34m-\u001b[0m\u001b[0;36m3\u001b[0m\u001b[0;34m]\u001b[0m\u001b[0;34m,\u001b[0m\u001b[0moutput\u001b[0m\u001b[0;34m[\u001b[0m\u001b[0;34m-\u001b[0m\u001b[0;36m2\u001b[0m\u001b[0;34m]\u001b[0m\u001b[0;34m,\u001b[0m\u001b[0moutput\u001b[0m\u001b[0;34m[\u001b[0m\u001b[0;34m-\u001b[0m\u001b[0;36m1\u001b[0m\u001b[0;34m]\u001b[0m\u001b[0;34m\u001b[0m\u001b[0;34m\u001b[0m\u001b[0m\n\u001b[1;32m     81\u001b[0m \u001b[0;31m#print(v.accessed.squeeze())\u001b[0m\u001b[0;34m\u001b[0m\u001b[0;34m\u001b[0m\u001b[0;34m\u001b[0m\u001b[0m\n",
      "\u001b[0;31mNameError\u001b[0m: name 'runCPUKernel' is not defined"
     ]
    }
   ],
   "source": [
    "from NeuralNetwork import NeuralNetwork\n",
    "from Layers import Dense, Conv, Reshape, sigmoid\n",
    "from tests import *\n",
    "import matplotlib.pyplot as plt\n",
    "\n",
    "conv = Conv((2,2),1,0,(2,2),sigmoid,inputShape=(5,5,1))\n",
    "conv.allocateMemory(1)\n",
    "ym1 = Tensor(np.random.randn(conv.batchSize,*conv.inputShape))\n",
    "sigmaOut = Tensor((conv.batchSize,*conv.outputShape))\n",
    "\n",
    "out1_ = 1\n",
    "out2_ = 1\n",
    "\n",
    "\n",
    "outInd1_ = np.zeros(conv.inputShape)\n",
    "outInd2_ = np.zeros(conv.inputShape)\n",
    "inInd1_ = np.zeros(conv.outputShape)\n",
    "inInd2_ = np.zeros(conv.outputShape)\n",
    "def forwardPropagate(globalIndex,ym1,outSize1,outSize2,filters,stride1,stride2,kernel1,kernel2,inSize1,inSize2,inSize3,padding,v,w,b):\n",
    "    batch = globalIndex[0]\n",
    "    filter = globalIndex[1]\n",
    "    out1 = globalIndex[2]%outSize1\n",
    "    out2 = globalIndex[2]//outSize1\n",
    "    \n",
    "    in1 = out1*stride1-padding\n",
    "    in2 = out2*stride2-padding\n",
    "    K1_LIMIT_INF = max(0,-in1)\n",
    "    K2_LIMIT_INF = max(0,-in2)\n",
    "    K1_LIMIT_SUP = min(kernel1,inSize1-in1)\n",
    "    K2_LIMIT_SUP = min(kernel2,inSize2-in2)\n",
    "    v[batch,out1,out2,filter] = b[filter,]\n",
    "    for k1 in range(K1_LIMIT_INF, K1_LIMIT_SUP):\n",
    "        for k2 in range(K2_LIMIT_INF, K2_LIMIT_SUP):\n",
    "            for dim in range(inSize3):\n",
    "                in1 = out1*stride1-padding+k1\n",
    "                in2 = out2*stride2-padding+k2\n",
    "\n",
    "                outInd1_[in1,in2] = out1+1\n",
    "                outInd2_[in1,in2] = out2+1\n",
    "                inInd1_[out1,out2] = in1+1\n",
    "                inInd2_[out1,out2] = in2+1\n",
    "\n",
    "                v[batch,out1,out2,filter] += \\\n",
    "                ym1[batch,in1,in2,dim] * \\\n",
    "                w[filter, k1, k2,dim]\n",
    "\n",
    "outInd1 = np.zeros(conv.inputShape)\n",
    "outInd2 = np.zeros(conv.inputShape)\n",
    "inInd1 = np.zeros(conv.outputShape)\n",
    "inInd2 = np.zeros(conv.outputShape)\n",
    "\n",
    "def computeLocalGradient(globalIndex,sigmaOut,outSize1,outSize2,filters,inSize1,inSize2,inSize3,kernel1,kernel2,stride1,stride2,padding,sigmaIn,dphi,w):\n",
    "    batch = globalIndex[0]\n",
    "    in1 = globalIndex[1]//inSize2\n",
    "    in2 = globalIndex[1]%inSize2\n",
    "    in3 = globalIndex[2]\n",
    "    K1_LIMIT_INF = max(0,in1-outSize1*stride1+padding+1)+in1%stride1\n",
    "    K2_LIMIT_INF = max(0,in2-outSize2*stride2+padding+1)+in2%stride2\n",
    "    K1_LIMIT_SUP = min(kernel1,in1+padding+1)\n",
    "    K2_LIMIT_SUP = min(kernel2,in2+padding+1)\n",
    "    sigmaIn[batch,in1,in2,in3] = 0\n",
    "    for k1 in range(K1_LIMIT_INF,K1_LIMIT_SUP,stride1):\n",
    "        for k2 in range(K2_LIMIT_INF,K2_LIMIT_SUP,stride2):\n",
    "            for out3 in range(filters):\n",
    "                out1 = (in1-k1+padding)//stride1\n",
    "                out2 = (in2-k2+padding)//stride2\n",
    "                if out1 == out1_ and out2 == out2_:\n",
    "                    if in1 == 4 and in2 == 4:\n",
    "                        print(in1,in2,out1,out2)\n",
    "                        print(K1_LIMIT_INF,K1_LIMIT_SUP)\n",
    "                    outInd1[in1,in2] = out1+1\n",
    "                    outInd2[in1,in2] = out2+1\n",
    "                    inInd1[out1,out2] = in1+1\n",
    "                    inInd2[out1,out2] = in2+1\n",
    "                sigmaIn[batch,in1,in2,in3] += w[out3,k1,k2,in3] \\\n",
    "                    *sigmaOut[batch,out1,out2,out3] \\\n",
    "                        *dphi[batch,out1,out2,out3]\n",
    "\n",
    "output = runCPUKernel(forwardPropagate,conv.GPUForwardPropagate,(ym1,),ind=[0,0,out1_*conv.outputShape[1]+out2_])\n",
    "ym1, v, w, b = output[0],output[-3],output[-2],output[-1] \n",
    "#print(v.accessed.squeeze())\n",
    "#print(ym1.accessed.squeeze())\n",
    "\n",
    "output = runCPUKernel(computeLocalGradient,conv.computeLocalGradient,(sigmaOut,))\n",
    "#output[0].array[np.logical_not(output[0].accessed)] = 0\n",
    "#print(output[0].array.squeeze())\n",
    "\n"
   ]
  },
  {
   "cell_type": "code",
   "execution_count": null,
   "metadata": {},
   "outputs": [],
   "source": [
    "print(outInd1_.squeeze())\n",
    "print(outInd1.squeeze())"
   ]
  },
  {
   "cell_type": "code",
   "execution_count": null,
   "metadata": {},
   "outputs": [],
   "source": [
    "print(outInd2_.squeeze())\n",
    "print(outInd2.squeeze())"
   ]
  },
  {
   "cell_type": "code",
   "execution_count": null,
   "metadata": {},
   "outputs": [],
   "source": [
    "print(inInd1_.squeeze())\n",
    "print(inInd1.squeeze())"
   ]
  },
  {
   "cell_type": "code",
   "execution_count": null,
   "metadata": {},
   "outputs": [],
   "source": [
    "print(inInd2_.squeeze())\n",
    "print(inInd2.squeeze())"
   ]
  },
  {
   "cell_type": "code",
   "execution_count": 5,
   "metadata": {},
   "outputs": [
    {
     "name": "stdout",
     "output_type": "stream",
     "text": [
      "\u001b[92mPASSED\u001b[0m Layer 0 dw r2= 1.0, m= 0.51, b= -0.0,\n",
      "\u001b[92mPASSED\u001b[0m Layer 0 db r2= 1.0, m= 0.5, b= -0.0,\n",
      "\u001b[92mPASSED\u001b[0m Layer 1 dw r2= 1.0, m= 0.52, b= 0.0,\n",
      "\u001b[92mPASSED\u001b[0m Layer 1 db r2= 1.0, m= 0.52, b= 0.0,\n",
      "\u001b[92mPASSED\u001b[0m Layer 3 dw r2= 1.0, m= 0.5, b= 0.0,\n",
      "\u001b[92mPASSED\u001b[0m Layer 3 db r2= 1.0, m= 0.5, b= 0.0,\n",
      "\u001b[92mPASSED\u001b[0m Layer 5 dw r2= 1.0, m= 0.51, b= 0.0,\n",
      "\u001b[92mPASSED\u001b[0m Layer 5 db r2= 1.0, m= 0.51, b= 0.0,\n",
      "\u001b[92mPASSED\u001b[0m forwardPropagate\n",
      "\u001b[92mPASSED\u001b[0m sigmoidTest\n",
      "\u001b[92mPASSED\u001b[0m computedb\n",
      "\u001b[92mPASSED\u001b[0m computeGradients\n",
      "\u001b[92mPASSED\u001b[0m computeLocalGradient\n",
      "\u001b[92mPASSED\u001b[0m learningRule\n"
     ]
    }
   ],
   "source": []
  },
  {
   "cell_type": "markdown",
   "metadata": {},
   "source": []
  }
 ],
 "metadata": {
  "kernelspec": {
   "display_name": "Python 3",
   "language": "python",
   "name": "python3"
  },
  "language_info": {
   "codemirror_mode": {
    "name": "ipython",
    "version": 3
   },
   "file_extension": ".py",
   "mimetype": "text/x-python",
   "name": "python",
   "nbconvert_exporter": "python",
   "pygments_lexer": "ipython3",
   "version": "3.8.8"
  }
 },
 "nbformat": 4,
 "nbformat_minor": 2
}
