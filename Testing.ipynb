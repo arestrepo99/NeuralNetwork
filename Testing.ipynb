{
 "cells": [
  {
   "cell_type": "code",
   "execution_count": 1,
   "metadata": {},
   "outputs": [],
   "source": [
    "%load_ext autoreload\n",
    "%autoreload 1"
   ]
  },
  {
   "cell_type": "code",
   "execution_count": 2,
   "metadata": {},
   "outputs": [],
   "source": [
    "import numpy as np\n",
    "from NeuralNetwork import NeuralNetwork, sigmoid\n",
    "from Dense import Dense, Reshape\n",
    "from Conv import Conv\n",
    "from Tensor import Tensor\n",
    "import matplotlib.pyplot as plt\n",
    "import pyopencl as cl\n",
    "\n",
    "from settings import context \n",
    "\n",
    "programConv = cl.Program(context, open('kernelsConv.cl').read()).build()\n",
    "\n",
    "model = NeuralNetwork([Conv((5,5),3,0,(12,12,1),(1,1),sigmoid),Conv((5,5),3,0,(7,7,3),(1,1),sigmoid),Reshape((2, 2, 3),(16,)),Dense(16,10,sigmoid)])"
   ]
  },
  {
   "cell_type": "code",
   "execution_count": 4,
   "metadata": {},
   "outputs": [
    {
     "ename": "TypeError",
     "evalue": "__init__() missing 6 required positional arguments: 'kernel', 'filters', 'padding', 'inputShape', 'strides', and 'activation'",
     "output_type": "error",
     "traceback": [
      "\u001b[0;31m---------------------------------------------------------------------------\u001b[0m",
      "\u001b[0;31mTypeError\u001b[0m                                 Traceback (most recent call last)",
      "\u001b[0;32m<ipython-input-4-8ce5dfceb0f7>\u001b[0m in \u001b[0;36m<module>\u001b[0;34m\u001b[0m\n\u001b[0;32m----> 1\u001b[0;31m \u001b[0mConv\u001b[0m\u001b[0;34m(\u001b[0m\u001b[0;34m)\u001b[0m\u001b[0;34m\u001b[0m\u001b[0;34m\u001b[0m\u001b[0m\n\u001b[0m",
      "\u001b[0;31mTypeError\u001b[0m: __init__() missing 6 required positional arguments: 'kernel', 'filters', 'padding', 'inputShape', 'strides', and 'activation'"
     ]
    }
   ],
   "source": [
    "Conv()"
   ]
  },
  {
   "cell_type": "code",
   "execution_count": 1,
   "metadata": {},
   "outputs": [
    {
     "data": {
      "text/plain": [
       "<matplotlib.collections.PathCollection at 0x7fe821027a60>"
      ]
     },
     "execution_count": 1,
     "metadata": {},
     "output_type": "execute_result"
    },
    {
     "data": {
      "image/png": "[encoded data removed]",
      "text/plain": [
       "<Figure size 432x288 with 1 Axes>"
      ]
     },
     "metadata": {
      "needs_background": "light"
     },
     "output_type": "display_data"
    }
   ],
   "source": [
    "import numpy as np\n",
    "from NeuralNetwork import NeuralNetwork, sigmoid\n",
    "from Dense import Dense, Reshape\n",
    "from Conv import Conv\n",
    "from Tensor import Tensor\n",
    "import matplotlib.pyplot as plt\n",
    "import pyopencl as cl\n",
    "\n",
    "\n",
    "model = NeuralNetwork([Conv((5,5),3,0,(12,12,1),(1,1),sigmoid),Conv((5,5),3,0,(7,7,3),(1,1),sigmoid),Reshape((2, 2, 3),(16,)),Dense(16,10,sigmoid)])\n",
    "\n",
    "model.allocateMemory(1)\n",
    "x = Tensor(np.random.randn(*(1,*model.inputShape)))\n",
    "y = Tensor(np.random.randn(1,*model.outputShape))\n",
    "model.gradientDescent(x,y,0)\n",
    "dw,db = model.testGrads(x,y)\n",
    "\n",
    "l = 0\n",
    "plt.scatter(dw[l],model.layers[l].dw.get().flatten())\n",
    "plt.scatter(db[l],model.layers[l].db.get().flatten())"
   ]
  },
  {
   "cell_type": "code",
   "execution_count": 6,
   "metadata": {},
   "outputs": [
    {
     "data": {
      "text/plain": [
       "<matplotlib.collections.PathCollection at 0x7fe830ee8fd0>"
      ]
     },
     "execution_count": 6,
     "metadata": {},
     "output_type": "execute_result"
    },
    {
     "data": {
      "image/png": "[encoded data removed]",
      "text/plain": [
       "<Figure size 432x288 with 1 Axes>"
      ]
     },
     "metadata": {
      "needs_background": "light"
     },
     "output_type": "display_data"
    }
   ],
   "source": [
    "l = 3\n",
    "plt.scatter(dw[l],model.layers[l].dw.get().flatten())\n",
    "plt.scatter(db[l],model.layers[l].db.get().flatten())"
   ]
  },
  {
   "cell_type": "code",
   "execution_count": null,
   "metadata": {},
   "outputs": [],
   "source": []
  }
 ],
 "metadata": {
  "kernelspec": {
   "display_name": "Python 3",
   "language": "python",
   "name": "python3"
  },
  "language_info": {
   "codemirror_mode": {
    "name": "ipython",
    "version": 3
   },
   "file_extension": ".py",
   "mimetype": "text/x-python",
   "name": "python",
   "nbconvert_exporter": "python",
   "pygments_lexer": "ipython3",
   "version": "3.8.8"
  }
 },
 "nbformat": 4,
 "nbformat_minor": 2
}
