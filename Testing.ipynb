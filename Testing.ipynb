{
 "cells": [
  {
   "cell_type": "code",
   "execution_count": 4,
   "metadata": {},
   "outputs": [],
   "source": [
    "%load_ext autoreload\n",
    "%autoreload 2\n",
    "from NeuralNetwork import *"
   ]
  },
  {
   "cell_type": "code",
   "execution_count": 4,
   "metadata": {},
   "outputs": [
    {
     "ename": "AttributeError",
     "evalue": "'learningRule' was not found as a program info attribute or as a kernel name",
     "output_type": "error",
     "traceback": [
      "\u001b[0;31m---------------------------------------------------------------------------\u001b[0m",
      "\u001b[0;31mLogicError\u001b[0m                                Traceback (most recent call last)",
      "\u001b[0;32m/opt/anaconda3/lib/python3.8/site-packages/pyopencl/__init__.py\u001b[0m in \u001b[0;36m__getattr__\u001b[0;34m(self, attr)\u001b[0m\n\u001b[1;32m    460\u001b[0m         \u001b[0;32mtry\u001b[0m\u001b[0;34m:\u001b[0m\u001b[0;34m\u001b[0m\u001b[0;34m\u001b[0m\u001b[0m\n\u001b[0;32m--> 461\u001b[0;31m             \u001b[0mknl\u001b[0m \u001b[0;34m=\u001b[0m \u001b[0mKernel\u001b[0m\u001b[0;34m(\u001b[0m\u001b[0mself\u001b[0m\u001b[0;34m,\u001b[0m \u001b[0mattr\u001b[0m\u001b[0;34m)\u001b[0m\u001b[0;34m\u001b[0m\u001b[0;34m\u001b[0m\u001b[0m\n\u001b[0m\u001b[1;32m    462\u001b[0m             \u001b[0;31m# Nvidia does not raise errors even for invalid names,\u001b[0m\u001b[0;34m\u001b[0m\u001b[0;34m\u001b[0m\u001b[0;34m\u001b[0m\u001b[0m\n",
      "\u001b[0;32m/opt/anaconda3/lib/python3.8/site-packages/pyopencl/__init__.py\u001b[0m in \u001b[0;36mkernel_init\u001b[0;34m(self, prg, name)\u001b[0m\n\u001b[1;32m    813\u001b[0m \u001b[0;34m\u001b[0m\u001b[0m\n\u001b[0;32m--> 814\u001b[0;31m         \u001b[0mkernel_old_init\u001b[0m\u001b[0;34m(\u001b[0m\u001b[0mself\u001b[0m\u001b[0;34m,\u001b[0m \u001b[0mprg\u001b[0m\u001b[0;34m,\u001b[0m \u001b[0mname\u001b[0m\u001b[0;34m)\u001b[0m\u001b[0;34m\u001b[0m\u001b[0;34m\u001b[0m\u001b[0m\n\u001b[0m\u001b[1;32m    815\u001b[0m \u001b[0;34m\u001b[0m\u001b[0m\n",
      "\u001b[0;31mLogicError\u001b[0m: clCreateKernel failed: INVALID_KERNEL_NAME",
      "\nDuring handling of the above exception, another exception occurred:\n",
      "\u001b[0;31mAttributeError\u001b[0m                            Traceback (most recent call last)",
      "\u001b[0;32m<ipython-input-4-ce455a8cdb03>\u001b[0m in \u001b[0;36m<module>\u001b[0;34m\u001b[0m\n\u001b[1;32m      3\u001b[0m \u001b[0mconv\u001b[0m \u001b[0;34m=\u001b[0m \u001b[0mConv\u001b[0m\u001b[0;34m(\u001b[0m\u001b[0;34m(\u001b[0m\u001b[0;36m5\u001b[0m\u001b[0;34m,\u001b[0m\u001b[0;36m5\u001b[0m\u001b[0;34m)\u001b[0m\u001b[0;34m,\u001b[0m\u001b[0;36m4\u001b[0m\u001b[0;34m,\u001b[0m\u001b[0;36m0\u001b[0m\u001b[0;34m,\u001b[0m\u001b[0;34m(\u001b[0m\u001b[0;36m28\u001b[0m\u001b[0;34m,\u001b[0m\u001b[0;36m28\u001b[0m\u001b[0;34m,\u001b[0m\u001b[0;36m3\u001b[0m\u001b[0;34m)\u001b[0m\u001b[0;34m,\u001b[0m\u001b[0;34m(\u001b[0m\u001b[0;36m2\u001b[0m\u001b[0;34m,\u001b[0m\u001b[0;36m2\u001b[0m\u001b[0;34m)\u001b[0m\u001b[0;34m,\u001b[0m\u001b[0msigmoid\u001b[0m\u001b[0;34m)\u001b[0m\u001b[0;34m\u001b[0m\u001b[0;34m\u001b[0m\u001b[0m\n\u001b[1;32m      4\u001b[0m \u001b[0;34m\u001b[0m\u001b[0m\n\u001b[0;32m----> 5\u001b[0;31m \u001b[0mconv\u001b[0m\u001b[0;34m.\u001b[0m\u001b[0mallocateMemory\u001b[0m\u001b[0;34m(\u001b[0m\u001b[0;36m10\u001b[0m\u001b[0;34m)\u001b[0m\u001b[0;34m\u001b[0m\u001b[0;34m\u001b[0m\u001b[0m\n\u001b[0m\u001b[1;32m      6\u001b[0m \u001b[0mym1\u001b[0m \u001b[0;34m=\u001b[0m \u001b[0mTensor\u001b[0m\u001b[0;34m(\u001b[0m\u001b[0mnp\u001b[0m\u001b[0;34m.\u001b[0m\u001b[0mrandom\u001b[0m\u001b[0;34m.\u001b[0m\u001b[0mrandn\u001b[0m\u001b[0;34m(\u001b[0m\u001b[0;36m10\u001b[0m\u001b[0;34m,\u001b[0m\u001b[0;36m28\u001b[0m\u001b[0;34m,\u001b[0m\u001b[0;36m28\u001b[0m\u001b[0;34m,\u001b[0m\u001b[0;36m3\u001b[0m\u001b[0;34m)\u001b[0m\u001b[0;34m)\u001b[0m\u001b[0;34m\u001b[0m\u001b[0;34m\u001b[0m\u001b[0m\n\u001b[1;32m      7\u001b[0m \u001b[0mY\u001b[0m \u001b[0;34m=\u001b[0m \u001b[0mconv\u001b[0m\u001b[0;34m.\u001b[0m\u001b[0mforwardPropagate\u001b[0m\u001b[0;34m(\u001b[0m\u001b[0mym1\u001b[0m\u001b[0;34m)\u001b[0m\u001b[0;34m\u001b[0m\u001b[0;34m\u001b[0m\u001b[0m\n",
      "\u001b[0;32m~/Documents/Personal Proyects/Neural Network/NeuralNetwork.py\u001b[0m in \u001b[0;36mallocateMemory\u001b[0;34m(self, batchSize)\u001b[0m\n\u001b[1;32m    190\u001b[0m             (*self.outputShape,*self.inputShape,*self.kernel,\n\u001b[1;32m    191\u001b[0m             self.sigma, self.db, self.w))\n\u001b[0;32m--> 192\u001b[0;31m         self.learningRule = Kernel(programConv.learningRule, \n\u001b[0m\u001b[1;32m    193\u001b[0m             \u001b[0;34m(\u001b[0m\u001b[0;36m1\u001b[0m\u001b[0;34m,\u001b[0m \u001b[0;36m1\u001b[0m\u001b[0;34m)\u001b[0m\u001b[0;34m,\u001b[0m\u001b[0;34m\u001b[0m\u001b[0;34m\u001b[0m\u001b[0m\n\u001b[1;32m    194\u001b[0m             (0, 0, 0, self.dw,self.db,self.w,self.b))\n",
      "\u001b[0;32m/opt/anaconda3/lib/python3.8/site-packages/pyopencl/__init__.py\u001b[0m in \u001b[0;36m__getattr__\u001b[0;34m(self, attr)\u001b[0m\n\u001b[1;32m    473\u001b[0m             \u001b[0;32mreturn\u001b[0m \u001b[0mknl\u001b[0m\u001b[0;34m\u001b[0m\u001b[0;34m\u001b[0m\u001b[0m\n\u001b[1;32m    474\u001b[0m         \u001b[0;32mexcept\u001b[0m \u001b[0mLogicError\u001b[0m\u001b[0;34m:\u001b[0m\u001b[0;34m\u001b[0m\u001b[0;34m\u001b[0m\u001b[0m\n\u001b[0;32m--> 475\u001b[0;31m             raise AttributeError(\"'%s' was not found as a program \"\n\u001b[0m\u001b[1;32m    476\u001b[0m                     \"info attribute or as a kernel name\" % attr)\n\u001b[1;32m    477\u001b[0m \u001b[0;34m\u001b[0m\u001b[0m\n",
      "\u001b[0;31mAttributeError\u001b[0m: 'learningRule' was not found as a program info attribute or as a kernel name"
     ]
    }
   ],
   "source": [
    "from NeuralNetwork import *\n",
    "programConv = cl.Program(context, open('kernelsConv.cl').read()).build()\n",
    "conv = Conv((5,5),4,0,(28,28,3),(2,2),sigmoid)\n",
    "\n",
    "conv.allocateMemory(10)\n",
    "ym1 = Tensor(np.random.randn(10,28,28,3))\n",
    "Y = conv.forwardPropagate(ym1)\n",
    "\n",
    "e = Tensor(Y.get())\n",
    "conv.computeError(Y, e)\n",
    "conv.computedb(e)\n",
    "conv.computeGradients(ym1, e)"
   ]
  },
  {
   "cell_type": "code",
   "execution_count": null,
   "metadata": {},
   "outputs": [],
   "source": [
    "grads = conv.dw.get()"
   ]
  },
  {
   "cell_type": "code",
   "execution_count": null,
   "metadata": {},
   "outputs": [],
   "source": [
    "conv.testGrads()"
   ]
  },
  {
   "cell_type": "code",
   "execution_count": 3,
   "metadata": {},
   "outputs": [],
   "source": [
    "programConv = cl.Program(context, open('kernelsConv.cpp').read()).build()\n"
   ]
  },
  {
   "cell_type": "code",
   "execution_count": 4,
   "metadata": {},
   "outputs": [
    {
     "name": "stdout",
     "output_type": "stream",
     "text": [
      "The autoreload extension is already loaded. To reload it, use:\n",
      "  %reload_ext autoreload\n"
     ]
    },
    {
     "ename": "KeyError",
     "evalue": "'sigma'",
     "output_type": "error",
     "traceback": [
      "\u001b[0;31m---------------------------------------------------------------------------\u001b[0m",
      "\u001b[0;31mKeyError\u001b[0m                                  Traceback (most recent call last)",
      "\u001b[0;32m<ipython-input-4-cbc9683d2c59>\u001b[0m in \u001b[0;36m<module>\u001b[0;34m\u001b[0m\n\u001b[1;32m      9\u001b[0m \u001b[0mY\u001b[0m \u001b[0;34m=\u001b[0m \u001b[0mconv\u001b[0m\u001b[0;34m.\u001b[0m\u001b[0mforwardPropagate\u001b[0m\u001b[0;34m(\u001b[0m\u001b[0mym1\u001b[0m\u001b[0;34m)\u001b[0m\u001b[0;34m\u001b[0m\u001b[0;34m\u001b[0m\u001b[0m\n\u001b[1;32m     10\u001b[0m \u001b[0me\u001b[0m \u001b[0;34m=\u001b[0m \u001b[0mTensor\u001b[0m\u001b[0;34m(\u001b[0m\u001b[0mY\u001b[0m\u001b[0;34m.\u001b[0m\u001b[0mget\u001b[0m\u001b[0;34m(\u001b[0m\u001b[0;34m)\u001b[0m\u001b[0;34m)\u001b[0m\u001b[0;34m\u001b[0m\u001b[0;34m\u001b[0m\u001b[0m\n\u001b[0;32m---> 11\u001b[0;31m \u001b[0mconv\u001b[0m\u001b[0;34m.\u001b[0m\u001b[0mbackwardPropagate\u001b[0m\u001b[0;34m(\u001b[0m\u001b[0mY\u001b[0m\u001b[0;34m=\u001b[0m\u001b[0mY\u001b[0m\u001b[0;34m,\u001b[0m\u001b[0me\u001b[0m\u001b[0;34m=\u001b[0m\u001b[0me\u001b[0m\u001b[0;34m,\u001b[0m \u001b[0mlrate\u001b[0m\u001b[0;34m=\u001b[0m\u001b[0;36m0\u001b[0m\u001b[0;34m)\u001b[0m\u001b[0;34m\u001b[0m\u001b[0;34m\u001b[0m\u001b[0m\n\u001b[0m\u001b[1;32m     12\u001b[0m \u001b[0;34m\u001b[0m\u001b[0m\n\u001b[1;32m     13\u001b[0m \u001b[0mprint\u001b[0m\u001b[0;34m(\u001b[0m\u001b[0mconv\u001b[0m\u001b[0;34m.\u001b[0m\u001b[0mdb\u001b[0m\u001b[0;34m.\u001b[0m\u001b[0mshape\u001b[0m\u001b[0;34m)\u001b[0m\u001b[0;34m\u001b[0m\u001b[0;34m\u001b[0m\u001b[0m\n",
      "\u001b[0;32m~/Documents/Personal Proyects/Neural Network/NeuralNetwork.py\u001b[0m in \u001b[0;36mbackwardPropagate\u001b[0;34m(self, **kwargs)\u001b[0m\n\u001b[1;32m    151\u001b[0m         \u001b[0;32mif\u001b[0m \u001b[0;34m'sigma'\u001b[0m \u001b[0;32min\u001b[0m \u001b[0mkwargs\u001b[0m\u001b[0;34m:\u001b[0m\u001b[0;34m\u001b[0m\u001b[0;34m\u001b[0m\u001b[0m\n\u001b[1;32m    152\u001b[0m             \u001b[0mself\u001b[0m\u001b[0;34m.\u001b[0m\u001b[0mcomputedb\u001b[0m\u001b[0;34m(\u001b[0m\u001b[0mkwargs\u001b[0m\u001b[0;34m[\u001b[0m\u001b[0;34m'sigma'\u001b[0m\u001b[0;34m]\u001b[0m\u001b[0;34m)\u001b[0m\u001b[0;34m\u001b[0m\u001b[0;34m\u001b[0m\u001b[0m\n\u001b[0;32m--> 153\u001b[0;31m         \u001b[0mself\u001b[0m\u001b[0;34m.\u001b[0m\u001b[0mcomputeGradients\u001b[0m\u001b[0;34m(\u001b[0m\u001b[0mself\u001b[0m\u001b[0;34m.\u001b[0m\u001b[0mym1\u001b[0m\u001b[0;34m,\u001b[0m \u001b[0mkwargs\u001b[0m\u001b[0;34m[\u001b[0m\u001b[0;34m'sigma'\u001b[0m\u001b[0;34m]\u001b[0m\u001b[0;34m)\u001b[0m\u001b[0;34m\u001b[0m\u001b[0;34m\u001b[0m\u001b[0m\n\u001b[0m\u001b[1;32m    154\u001b[0m         \u001b[0mself\u001b[0m\u001b[0;34m.\u001b[0m\u001b[0mcomputeLocalGradient\u001b[0m\u001b[0;34m(\u001b[0m\u001b[0;34m)\u001b[0m\u001b[0;34m\u001b[0m\u001b[0;34m\u001b[0m\u001b[0m\n\u001b[1;32m    155\u001b[0m         \u001b[0mself\u001b[0m\u001b[0;34m.\u001b[0m\u001b[0mlearningRule\u001b[0m\u001b[0;34m(\u001b[0m\u001b[0mnp\u001b[0m\u001b[0;34m.\u001b[0m\u001b[0mfloat32\u001b[0m\u001b[0;34m(\u001b[0m\u001b[0mkwargs\u001b[0m\u001b[0;34m[\u001b[0m\u001b[0;34m'lrate'\u001b[0m\u001b[0;34m]\u001b[0m\u001b[0;34m)\u001b[0m\u001b[0;34m)\u001b[0m\u001b[0;34m\u001b[0m\u001b[0;34m\u001b[0m\u001b[0m\n",
      "\u001b[0;31mKeyError\u001b[0m: 'sigma'"
     ]
    }
   ],
   "source": [
    "%load_ext autoreload\n",
    "from NeuralNetwork import *\n",
    "programConv = cl.Program(context, open('kernelsConv.cpp').read()).build()\n",
    "conv = Conv((5,5),4,0,(28,28,3),(2,2),sigmoid)\n",
    "\n",
    "conv.allocateMemory(10)\n",
    "\n",
    "ym1 = Tensor(np.random.randn(10,28,28,3))\n",
    "Y = conv.forwardPropagate(ym1)\n",
    "e = Tensor(Y.get())\n",
    "conv.backwardPropagate(Y=Y,e=e, lrate=0)\n",
    "\n",
    "print(conv.db.shape)\n",
    "conv.db"
   ]
  },
  {
   "cell_type": "code",
   "execution_count": null,
   "metadata": {},
   "outputs": [],
   "source": []
  },
  {
   "cell_type": "code",
   "execution_count": null,
   "metadata": {},
   "outputs": [
    {
     "data": {
      "text/plain": [
       "[[[[5. 5. 5. 5. 5. 5. 5. 5. 5. 5.]\n",
       "   [5. 5. 5. 5. 5. 5. 5. 5. 5. 5.]\n",
       "   [5. 5. 5. 5. 5. 5. 5. 5. 5. 5.]\n",
       "   [5. 5. 5. 5. 5. 5. 5. 5. 5. 5.]\n",
       "   [5. 5. 5. 5. 5. 5. 5. 5. 5. 5.]\n",
       "   [5. 5. 5. 5. 5. 5. 5. 5. 5. 5.]\n",
       "   [5. 5. 5. 5. 5. 5. 5. 5. 5. 5.]\n",
       "   [5. 5. 5. 5. 5. 5. 5. 5. 5. 5.]]\n",
       "\n",
       "  [[5. 5. 5. 5. 5. 5. 5. 5. 5. 5.]\n",
       "   [5. 5. 5. 5. 5. 5. 5. 5. 5. 5.]\n",
       "   [5. 5. 5. 5. 5. 5. 5. 5. 5. 5.]\n",
       "   [5. 5. 5. 5. 5. 5. 5. 5. 5. 5.]\n",
       "   [5. 5. 5. 5. 5. 5. 5. 5. 5. 5.]\n",
       "   [5. 5. 5. 5. 5. 5. 5. 5. 5. 5.]\n",
       "   [5. 5. 5. 5. 5. 5. 5. 5. 5. 5.]\n",
       "   [5. 5. 5. 5. 5. 5. 5. 5. 5. 5.]]\n",
       "\n",
       "  [[5. 5. 5. 5. 5. 5. 5. 5. 5. 5.]\n",
       "   [5. 5. 5. 5. 5. 5. 5. 5. 5. 5.]\n",
       "   [5. 5. 5. 5. 5. 5. 5. 5. 5. 5.]\n",
       "   [5. 5. 5. 5. 5. 5. 5. 5. 5. 5.]\n",
       "   [5. 5. 5. 5. 5. 5. 5. 5. 5. 5.]\n",
       "   [5. 5. 5. 5. 5. 5. 5. 5. 5. 5.]\n",
       "   [5. 5. 5. 5. 5. 5. 5. 5. 5. 5.]\n",
       "   [5. 5. 5. 5. 5. 5. 5. 5. 5. 5.]]\n",
       "\n",
       "  [[5. 5. 5. 5. 5. 5. 5. 5. 5. 5.]\n",
       "   [5. 5. 5. 5. 5. 5. 5. 5. 5. 5.]\n",
       "   [5. 5. 5. 5. 5. 5. 5. 5. 5. 5.]\n",
       "   [5. 5. 5. 5. 5. 5. 5. 5. 5. 5.]\n",
       "   [5. 5. 5. 5. 5. 5. 5. 5. 5. 5.]\n",
       "   [5. 5. 5. 5. 5. 5. 5. 5. 5. 5.]\n",
       "   [5. 5. 5. 5. 5. 5. 5. 5. 5. 5.]\n",
       "   [5. 5. 5. 5. 5. 5. 5. 5. 5. 5.]]\n",
       "\n",
       "  [[5. 5. 5. 5. 5. 5. 5. 5. 5. 5.]\n",
       "   [5. 5. 5. 5. 5. 5. 5. 5. 5. 5.]\n",
       "   [5. 5. 5. 5. 5. 5. 5. 5. 5. 5.]\n",
       "   [5. 5. 5. 5. 5. 5. 5. 5. 5. 5.]\n",
       "   [5. 5. 5. 5. 5. 5. 5. 5. 5. 5.]\n",
       "   [5. 5. 5. 5. 5. 5. 5. 5. 5. 5.]\n",
       "   [5. 5. 5. 5. 5. 5. 5. 5. 5. 5.]\n",
       "   [5. 5. 5. 5. 5. 5. 5. 5. 5. 5.]]\n",
       "\n",
       "  [[5. 5. 5. 5. 5. 5. 5. 5. 5. 5.]\n",
       "   [5. 5. 5. 5. 5. 5. 5. 5. 5. 5.]\n",
       "   [5. 5. 5. 5. 5. 5. 5. 5. 5. 5.]\n",
       "   [5. 5. 5. 5. 5. 5. 5. 5. 5. 5.]\n",
       "   [5. 5. 5. 5. 5. 5. 5. 5. 5. 5.]\n",
       "   [5. 5. 5. 5. 5. 5. 5. 5. 5. 5.]\n",
       "   [5. 5. 5. 5. 5. 5. 5. 5. 5. 5.]\n",
       "   [5. 5. 5. 5. 5. 5. 5. 5. 5. 5.]]\n",
       "\n",
       "  [[5. 5. 5. 5. 5. 5. 5. 5. 5. 5.]\n",
       "   [5. 5. 5. 5. 5. 5. 5. 5. 5. 5.]\n",
       "   [5. 5. 5. 5. 5. 5. 5. 5. 5. 5.]\n",
       "   [5. 5. 5. 5. 5. 5. 5. 5. 5. 5.]\n",
       "   [5. 5. 5. 5. 5. 5. 5. 5. 5. 5.]\n",
       "   [5. 5. 5. 5. 5. 5. 5. 5. 5. 5.]\n",
       "   [5. 5. 5. 5. 5. 5. 5. 5. 5. 5.]\n",
       "   [5. 5. 5. 5. 5. 5. 5. 5. 5. 5.]]\n",
       "\n",
       "  [[5. 5. 5. 5. 5. 5. 5. 5. 5. 5.]\n",
       "   [5. 5. 5. 5. 5. 5. 5. 5. 5. 5.]\n",
       "   [5. 5. 5. 5. 5. 5. 5. 5. 5. 5.]\n",
       "   [5. 5. 5. 5. 5. 5. 5. 5. 5. 5.]\n",
       "   [5. 5. 5. 5. 5. 5. 5. 5. 5. 5.]\n",
       "   [5. 5. 5. 5. 5. 5. 5. 5. 5. 5.]\n",
       "   [5. 5. 5. 5. 5. 5. 5. 5. 5. 5.]\n",
       "   [5. 5. 5. 5. 5. 5. 5. 5. 5. 5.]]]]"
      ]
     },
     "execution_count": 2,
     "metadata": {},
     "output_type": "execute_result"
    }
   ],
   "source": [
    "conv = Conv((2,2),10,0,(10,10,1),(1,1),sigmoid)\n",
    "conv.allocateMemory(1)\n",
    "conv.w.set(np.ones(conv.w.shape))\n",
    "conv.b.set(np.ones(conv.b.shape))\n",
    "conv.forwardPropagate(Tensor(np.ones((1,10,10,1))))\n",
    "conv.v"
   ]
  }
 ],
 "metadata": {
  "kernelspec": {
   "display_name": "Python 3",
   "language": "python",
   "name": "python3"
  },
  "language_info": {
   "codemirror_mode": {
    "name": "ipython",
    "version": 3
   },
   "file_extension": ".py",
   "mimetype": "text/x-python",
   "name": "python",
   "nbconvert_exporter": "python",
   "pygments_lexer": "ipython3",
   "version": "3.8.8"
  }
 },
 "nbformat": 4,
 "nbformat_minor": 2
}
