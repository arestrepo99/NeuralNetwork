{
 "cells": [
  {
   "cell_type": "code",
   "execution_count": 1,
   "metadata": {},
   "outputs": [],
   "source": [
    "%load_ext autoreload\n",
    "%autoreload 2"
   ]
  },
  {
   "cell_type": "code",
   "execution_count": 7,
   "metadata": {},
   "outputs": [
    {
     "data": {
      "text/plain": [
       "0"
      ]
     },
     "execution_count": 7,
     "metadata": {},
     "output_type": "execute_result"
    }
   ],
   "source": [
    "0%2"
   ]
  },
  {
   "cell_type": "code",
   "execution_count": 6,
   "metadata": {},
   "outputs": [
    {
     "name": "stdout",
     "output_type": "stream",
     "text": [
      "0  0  [0]  _  0,\n",
      "1  1  [1]  _  0,\n",
      "2  0  [0, 2]  _  1,0,\n",
      "3  1  [1]  _  1,\n",
      "4  0  [0, 2]  _  2,1,\n",
      "5  1  [1]  _  2,\n",
      "6  0  [0, 2]  _  3,2,\n",
      "7  1  [1]  _  3,\n",
      "8  2  [2]  _  3,\n",
      "9  3  []  _  \n"
     ]
    }
   ],
   "source": [
    "inSize = 10\n",
    "\n",
    "kernel = 3\n",
    "stride = 2\n",
    "\n",
    "\n",
    "for in1 in range(0,10):\n",
    "    phase = in1%stride\n",
    "    out = in1//stride\n",
    "    print(in1,end='  ')\n",
    "    begin = max(phase+inSize,in1+kernel+1)-inSize\n",
    "    print(begin,end='  ')\n",
    "    end = kernel+1+in1 - max(kernel,1+in1)\n",
    "    r1 = range(begin,end,stride)\n",
    "    print(list(r1),end = '  _  ')\n",
    "    for i in range(in1%stride,kernel,stride):\n",
    "        if in1-i>=0 and in1+kernel-i-inSize<0:\n",
    "            \n",
    "            print((in1-i)//stride,end=',')\n",
    "            pass\n",
    "        \n",
    "        #print(f'{i>=0}',end=',')\n",
    "    print()"
   ]
  },
  {
   "cell_type": "code",
   "execution_count": 90,
   "metadata": {},
   "outputs": [
    {
     "data": {
      "text/plain": [
       "[2]"
      ]
     },
     "execution_count": 90,
     "metadata": {},
     "output_type": "execute_result"
    }
   ],
   "source": [
    "list(range(2,3,1))"
   ]
  },
  {
   "cell_type": "code",
   "execution_count": 74,
   "metadata": {},
   "outputs": [
    {
     "data": {
      "text/plain": [
       "0"
      ]
     },
     "execution_count": 74,
     "metadata": {},
     "output_type": "execute_result"
    }
   ],
   "source": [
    "phase"
   ]
  },
  {
   "cell_type": "code",
   "execution_count": 1,
   "metadata": {},
   "outputs": [
    {
     "name": "stdout",
     "output_type": "stream",
     "text": [
      "\u001b[92mPASSED\u001b[0m forwardPropagate\n",
      "\u001b[92mPASSED\u001b[0m sigmoidTest\n",
      "\u001b[92mPASSED\u001b[0m computedb\n",
      "\u001b[92mPASSED\u001b[0m computeGradients\n",
      "\u001b[92mPASSED\u001b[0m computeLocalGradient\n",
      "\u001b[92mPASSED\u001b[0m learningRule\n"
     ]
    },
    {
     "data": {
      "text/plain": [
       "{}"
      ]
     },
     "execution_count": 1,
     "metadata": {},
     "output_type": "execute_result"
    }
   ],
   "source": [
    "from tests import *\n",
    "from testsConv import *\n",
    "\n",
    "batchSize = 10\n",
    "conv = Conv((3,3),10,0,(2,2),sigmoid, inputShape=(10,10,1))\n",
    "conv.allocateMemory(batchSize)\n",
    "ym1 = Tensor(np.random.randn(batchSize,*conv.inputShape))\n",
    "sigmaOut = Tensor(np.random.randn(batchSize,*conv.outputShape))\n",
    "\n",
    "test(conv.GPUForwardPropagate,forwardPropagate,(ym1,))\n",
    "test(conv.activate,sigmoidTest,tuple())\n",
    "test(conv.computedb,computedb,(sigmaOut,))\n",
    "test(conv.computeGradients,computeGradients,(ym1,sigmaOut))\n",
    "test(conv.computeLocalGradient,computeLocalGradient,(sigmaOut,))\n",
    "test(conv.learningRule,learningRule,(np.float32(0.1),))"
   ]
  },
  {
   "cell_type": "code",
   "execution_count": 2,
   "metadata": {},
   "outputs": [
    {
     "name": "stdout",
     "output_type": "stream",
     "text": [
      "\u001b[91mFAILED\u001b[0m Layer 0 dw r2= 0.56, m= 0.84, b= 0.04,\n",
      "\u001b[91mFAILED\u001b[0m Layer 0 db r2= 0.95, m= 0.68, b= 0.08,\n",
      "\u001b[92mPASSED\u001b[0m Layer 1 dw r2= 1.0, m= 1.53, b= 0.0,\n",
      "\u001b[92mPASSED\u001b[0m Layer 1 db r2= 1.0, m= 1.53, b= 0.01,\n",
      "\u001b[92mPASSED\u001b[0m Layer 3 dw r2= 1.0, m= 1.54, b= -0.0,\n",
      "\u001b[92mPASSED\u001b[0m Layer 3 db r2= 1.0, m= 1.54, b= 0.0,\n",
      "\u001b[92mPASSED\u001b[0m computeLocalGradient\n"
     ]
    },
    {
     "data": {
      "text/plain": [
       "{}"
      ]
     },
     "execution_count": 2,
     "metadata": {},
     "output_type": "execute_result"
    }
   ],
   "source": [
    "from NeuralNetwork import NeuralNetwork, sigmoid\n",
    "from Layers import Dense, Reshape\n",
    "from Conv import Conv\n",
    "from tests import *\n",
    "from testsConv import *\n",
    "import matplotlib.pyplot as plt\n",
    "from tests import gradientTest\n",
    "model = NeuralNetwork([Conv((4,4),3,0,(1,1),sigmoid, inputShape=(10,10,1)),Conv((3,3),6,0,(1,1),sigmoid),Reshape(-1),Dense(3,sigmoid)])\n",
    "dw,db = gradientTest(model)\n",
    "conv = model.layers[1]\n",
    "test(conv.computeLocalGradient,computeLocalGradient,(model.layers[2].sigma,))"
   ]
  },
  {
   "cell_type": "code",
   "execution_count": 3,
   "metadata": {},
   "outputs": [
    {
     "data": {
      "text/plain": [
       "90"
      ]
     },
     "execution_count": 3,
     "metadata": {},
     "output_type": "execute_result"
    }
   ],
   "source": [
    "np.prod((1, 3, 5, 6))"
   ]
  },
  {
   "cell_type": "code",
   "execution_count": 2,
   "metadata": {},
   "outputs": [
    {
     "data": {
      "text/plain": [
       "<matplotlib.collections.PathCollection at 0x7f7ec1071ac0>"
      ]
     },
     "execution_count": 2,
     "metadata": {},
     "output_type": "execute_result"
    },
    {
     "data": {
      "image/png": "[encoded data removed]",
      "text/plain": [
       "<Figure size 432x288 with 1 Axes>"
      ]
     },
     "metadata": {
      "needs_background": "light"
     },
     "output_type": "display_data"
    }
   ],
   "source": [
    "l = 0\n",
    "plt.scatter(dw[l],model.layers[l].dw.get().flatten())\n",
    "plt.scatter(db[l],model.layers[l].db.get().flatten())"
   ]
  },
  {
   "cell_type": "code",
   "execution_count": 4,
   "metadata": {},
   "outputs": [
    {
     "name": "stdout",
     "output_type": "stream",
     "text": [
      "\u001b[91mTest Failed\u001b[0m computeLocalGradient\n",
      "Param Index 11 with name \"sigmaIn\" was off by 0.5071778297424316\n",
      "\n"
     ]
    }
   ],
   "source": [
    "#test(conv.computeLocalGradient,computeLocalGradient2,(sigmaOut,))\n",
    "\n",
    "params = test(conv.computeLocalGradient,computeLocalGradient,(sigmaOut,))"
   ]
  },
  {
   "cell_type": "code",
   "execution_count": 26,
   "metadata": {},
   "outputs": [
    {
     "data": {
      "text/plain": [
       "array([[ 0.  ,  0.  , -0.08,  0.09,  0.  ,  0.  ],\n",
       "       [ 0.27, -0.37, -0.05, -0.05, -0.2 ,  0.03],\n",
       "       [ 0.08,  0.12, -0.41,  0.95, -0.04,  0.01],\n",
       "       [ 0.32,  0.23,  0.42, -0.54, -0.4 ,  0.16],\n",
       "       [ 0.03,  0.34, -0.34,  0.49,  0.01,  0.  ],\n",
       "       [ 0.  ,  0.17,  0.43,  0.79, -0.18,  0.14]], dtype=float32)"
      ]
     },
     "execution_count": 26,
     "metadata": {},
     "output_type": "execute_result"
    }
   ],
   "source": [
    "batch = 5\n",
    "(params['sigmaIn'][0][batch,:,:,0]-params['sigmaIn'][1][batch,:,:,0]).round(2)"
   ]
  },
  {
   "cell_type": "code",
   "execution_count": 3,
   "metadata": {},
   "outputs": [
    {
     "name": "stdout",
     "output_type": "stream",
     "text": [
      "\n",
      "def computeLocalGradient( *sigmaOut,\n",
      "                              outSize1,\n",
      "                              outSize2,\n",
      "                              filters,\n",
      "                              inSize1,\n",
      "                              inSize2,\n",
      "                              inSize3,\n",
      "                              kernel1,\n",
      "                              kernel2,\n",
      "                              stride1,\n",
      "                              stride2,\n",
      "                             *sigmaIn,\n",
      "                             *dphi,\n",
      "                             *w):\n",
      "                                \n",
      "     batch = globalIndex(0)/filters\n",
      "     in1 = globalIndex(1)/inSize2\n",
      "     in2 = globalIndex(1)%inSize2\n",
      "     in3 = globalIndex(2)\n",
      "  \n",
      "     indIn = batch               *inSize3*inSize2*inSize1 + \n",
      "                 in1                  *inSize3*inSize2 + \n",
      "                 in2                  *inSize3+\n",
      "                 in3  \n",
      "\n",
      "     out1 = in1*stride1\n",
      "     out2 = in2*stride2\n",
      "\n",
      "     indOut = batch         *filters*outSize2*outSize1\n",
      "     indOut2\n",
      "\n",
      "    sigmaIn[indIn] = 0\n",
      "\n",
      "     end1 = min(kernel1,out1+1)\n",
      "     end2 = min(kernel2,out2+1)\n",
      "    for( k1 = max(inSize1,kernel1+in1)-inSize1 k1<end1 k1+=stride1):\n",
      "        for( k2 = max(inSize2,kernel2+in2)-inSize2 k2<end2 k2+=stride2):\n",
      "            for( out3 = 0 out3<filters out3++):\n",
      "                indOut2 =\n",
      "                (out1-k1)    *filters*outSize2 + \n",
      "                (out2-k2)    *filters + \n",
      "                out3\n",
      "                sigmaIn[indIn] +=\n",
      "                    w[ out3      *kernel1*kernel2*inSize3 +\n",
      "                        k1          *kernel2*inSize3 +\n",
      "                        k2          *inSize3 +\n",
      "                        in3]\n",
      "                    *sigmaOut[indOut+indOut2]*dphi[indOut+indOut2]\n",
      "                            \n",
      "        \n",
      "    \n",
      "\n",
      "\n"
     ]
    }
   ],
   "source": [
    "from tests import parse\n",
    "kernelFuncion = \"\"\"\n",
    "kernel void computeLocalGradient(global float *sigmaOut,\n",
    "                            const uint outSize1,\n",
    "                            const uint outSize2,\n",
    "                            const uint filters,\n",
    "                            const uint inSize1,\n",
    "                            const uint inSize2,\n",
    "                            const uint inSize3,\n",
    "                            const uint kernel1,\n",
    "                            const uint kernel2,\n",
    "                            const uint stride1,\n",
    "                            const uint stride2,\n",
    "                            global float *sigmaIn,\n",
    "                            global float *dphi,\n",
    "                            global float *w){\n",
    "                                \n",
    "    uint batch = get_global_id(0)/filters;\n",
    "    uint in1 = get_global_id(1)/inSize2;\n",
    "    uint in2 = get_global_id(1)%inSize2;\n",
    "    uint in3 = get_global_id(2);\n",
    "  \n",
    "    uint indIn = batch               *inSize3*inSize2*inSize1 + \n",
    "                 in1                  *inSize3*inSize2 + \n",
    "                 in2                  *inSize3+\n",
    "                 in3;  \n",
    "\n",
    "    uint out1 = in1*stride1;\n",
    "    uint out2 = in2*stride2;\n",
    "\n",
    "    uint indOut = batch         *filters*outSize2*outSize1;\n",
    "    uint indOut2;\n",
    "\n",
    "    sigmaIn[indIn] = 0;\n",
    "\n",
    "    uint end1 = min(kernel1,out1+1);\n",
    "    uint end2 = min(kernel2,out2+1);\n",
    "    for(uint k1 = max(inSize1,kernel1+in1)-inSize1; k1<end1; k1+=stride1){\n",
    "        for(uint k2 = max(inSize2,kernel2+in2)-inSize2; k2<end2; k2+=stride2){\n",
    "            for(uint out3 = 0; out3<filters; out3++){\n",
    "                indOut2 =\n",
    "                (out1-k1)    *filters*outSize2 + \n",
    "                (out2-k2)    *filters + \n",
    "                out3;\n",
    "                sigmaIn[indIn] +=\n",
    "                    w[ out3      *kernel1*kernel2*inSize3 +\n",
    "                        k1          *kernel2*inSize3 +\n",
    "                        k2          *inSize3 +\n",
    "                        in3]\n",
    "                    *sigmaOut[indOut+indOut2]*dphi[indOut+indOut2];\n",
    "            }                \n",
    "        }\n",
    "    }\n",
    "}\n",
    "\"\"\"\n",
    "print(parse(kernelFuncion))"
   ]
  },
  {
   "cell_type": "code",
   "execution_count": 3,
   "metadata": {},
   "outputs": [
    {
     "data": {
      "text/plain": [
       "'\\ndef sigmoid(global float *v,\\n                    global float *y, global float *dphi){\\n \\n    uint ind = get_global_id(0);\\n    if (v[ind] > 80){\\n        v[ind] = 80;\\n    }\\n    if (v[ind] < -80){\\n        v[ind] = -80;\\n    }\\n    y[ind] = 1/( 1 + exp(-v[ind]) );\\n    dphi[ind] = y[ind]*(1-y[ind]);\\n}\\n'"
      ]
     },
     "execution_count": 3,
     "metadata": {},
     "output_type": "execute_result"
    }
   ],
   "source": [
    "kernelFuncion.replace('kernel void','def')"
   ]
  },
  {
   "cell_type": "code",
   "execution_count": null,
   "metadata": {},
   "outputs": [],
   "source": []
  }
 ],
 "metadata": {
  "kernelspec": {
   "display_name": "Python 3",
   "language": "python",
   "name": "python3"
  },
  "language_info": {
   "codemirror_mode": {
    "name": "ipython",
    "version": 3
   },
   "file_extension": ".py",
   "mimetype": "text/x-python",
   "name": "python",
   "nbconvert_exporter": "python",
   "pygments_lexer": "ipython3",
   "version": "3.8.8"
  }
 },
 "nbformat": 4,
 "nbformat_minor": 2
}
