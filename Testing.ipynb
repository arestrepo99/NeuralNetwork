{
 "cells": [
  {
   "cell_type": "code",
   "execution_count": 1,
   "metadata": {},
   "outputs": [],
   "source": [
    "%load_ext autoreload\n",
    "%autoreload 2"
   ]
  },
  {
   "cell_type": "code",
   "execution_count": 13,
   "metadata": {},
   "outputs": [],
   "source": [
    "import numpy as np\n",
    "from NeuralNetwork import NeuralNetwork, sigmoid\n",
    "from Dense import Dense\n",
    "from Conv import Conv\n",
    "from Tensor import Tensor\n",
    "import matplotlib.pyplot as plt"
   ]
  },
  {
   "cell_type": "code",
   "execution_count": 14,
   "metadata": {},
   "outputs": [],
   "source": [
    "import numpy as np\n",
    "from NeuralNetwork import NeuralNetwork, sigmoid\n",
    "from Dense import Dense\n",
    "from Conv import Conv\n",
    "from Tensor import Tensor\n",
    "\n",
    "model = NeuralNetwork([Conv((5,5),3,0,(12,12,3),(1,1),sigmoid),Conv((5,5),4,0,(7,7,3),(1,1),sigmoid),Dense(16,10,sigmoid)])\n",
    "model.allocateMemory(1)\n",
    "x = Tensor(np.random.randn(*(1,10,10,1)))\n",
    "y = Tensor(np.random.randn(1,10))\n",
    "model.gradientDescent(x,y,0)\n",
    "dw,db = model.testGrads(x,y)"
   ]
  },
  {
   "cell_type": "code",
   "execution_count": 20,
   "metadata": {},
   "outputs": [
    {
     "data": {
      "text/plain": [
       "[[[[0. 0. 0.]\n",
       "   [0. 0. 0.]\n",
       "   [0. 0. 0.]\n",
       "   [0. 0. 0.]\n",
       "   [0. 0. 0.]\n",
       "   [0. 0. 0.]\n",
       "   [0. 0. 0.]]\n",
       "\n",
       "  [[0. 0. 0.]\n",
       "   [0. 0. 0.]\n",
       "   [0. 0. 0.]\n",
       "   [0. 0. 0.]\n",
       "   [0. 0. 0.]\n",
       "   [0. 0. 0.]\n",
       "   [0. 0. 0.]]\n",
       "\n",
       "  [[0. 0. 0.]\n",
       "   [0. 0. 0.]\n",
       "   [0. 0. 0.]\n",
       "   [0. 0. 0.]\n",
       "   [0. 0. 0.]\n",
       "   [0. 0. 0.]\n",
       "   [0. 0. 0.]]\n",
       "\n",
       "  [[0. 0. 0.]\n",
       "   [0. 0. 0.]\n",
       "   [0. 0. 0.]\n",
       "   [0. 0. 0.]\n",
       "   [0. 0. 0.]\n",
       "   [0. 0. 0.]\n",
       "   [0. 0. 0.]]\n",
       "\n",
       "  [[0. 0. 0.]\n",
       "   [0. 0. 0.]\n",
       "   [0. 0. 0.]\n",
       "   [0. 0. 0.]\n",
       "   [0. 0. 0.]\n",
       "   [0. 0. 0.]\n",
       "   [0. 0. 0.]]\n",
       "\n",
       "  [[0. 0. 0.]\n",
       "   [0. 0. 0.]\n",
       "   [0. 0. 0.]\n",
       "   [0. 0. 0.]\n",
       "   [0. 0. 0.]\n",
       "   [0. 0. 0.]\n",
       "   [0. 0. 0.]]\n",
       "\n",
       "  [[0. 0. 0.]\n",
       "   [0. 0. 0.]\n",
       "   [0. 0. 0.]\n",
       "   [0. 0. 0.]\n",
       "   [0. 0. 0.]\n",
       "   [0. 0. 0.]\n",
       "   [0. 0. 0.]]]]"
      ]
     },
     "execution_count": 20,
     "metadata": {},
     "output_type": "execute_result"
    }
   ],
   "source": [
    "model.layers[1]"
   ]
  },
  {
   "cell_type": "code",
   "execution_count": 17,
   "metadata": {},
   "outputs": [
    {
     "data": {
      "text/plain": [
       "<matplotlib.collections.PathCollection at 0x7fe31101ebb0>"
      ]
     },
     "execution_count": 17,
     "metadata": {},
     "output_type": "execute_result"
    },
    {
     "data": {
      "image/png": "[encoded data removed]",
      "text/plain": [
       "<Figure size 432x288 with 1 Axes>"
      ]
     },
     "metadata": {
      "needs_background": "light"
     },
     "output_type": "display_data"
    }
   ],
   "source": [
    "l = 0\n",
    "plt.scatter(dw[l],model.layers[l].dw.get().flatten())\n",
    "plt.scatter(db[l],model.layers[l].db.get().flatten())"
   ]
  },
  {
   "cell_type": "code",
   "execution_count": null,
   "metadata": {},
   "outputs": [],
   "source": []
  }
 ],
 "metadata": {
  "kernelspec": {
   "display_name": "Python 3",
   "language": "python",
   "name": "python3"
  },
  "language_info": {
   "codemirror_mode": {
    "name": "ipython",
    "version": 3
   },
   "file_extension": ".py",
   "mimetype": "text/x-python",
   "name": "python",
   "nbconvert_exporter": "python",
   "pygments_lexer": "ipython3",
   "version": "3.9.7"
  }
 },
 "nbformat": 4,
 "nbformat_minor": 2
}
