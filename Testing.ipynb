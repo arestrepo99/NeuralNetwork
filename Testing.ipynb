{
 "cells": [
  {
   "cell_type": "code",
   "execution_count": 1,
   "metadata": {},
   "outputs": [],
   "source": [
    "%load_ext autoreload\n",
    "%autoreload 2\n",
    "from NeuralNetwork import *"
   ]
  },
  {
   "cell_type": "code",
   "execution_count": 44,
   "metadata": {},
   "outputs": [
    {
     "data": {
      "text/plain": [
       "(7, 7, 3)"
      ]
     },
     "execution_count": 44,
     "metadata": {},
     "output_type": "execute_result"
    }
   ],
   "source": [
    ".outputShape"
   ]
  },
  {
   "cell_type": "code",
   "execution_count": 45,
   "metadata": {},
   "outputs": [
    {
     "data": {
      "text/plain": [
       "16"
      ]
     },
     "execution_count": 45,
     "metadata": {},
     "output_type": "execute_result"
    }
   ],
   "source": [
    "np.prod(.outputShape)"
   ]
  },
  {
   "cell_type": "code",
   "execution_count": 46,
   "metadata": {},
   "outputs": [],
   "source": [
    "from NeuralNetwork import *\n",
    "\n",
    "model = NeuralNetowrk([Conv((5,5),3,0,(12,12,3),(1,1),sigmoid),Conv((5,5),4,0,(7,7,3),(1,1),sigmoid),Dense(16,10,sigmoid)])\n",
    "model.allocateMemory(1)\n",
    "x = Tensor(np.random.randn(*(1,10,10,1)))\n",
    "y = Tensor(np.random.randn(1,10))\n",
    "model.gradientDescent(x,y,0)\n",
    "dw,db = model.testGrads(x,y)"
   ]
  },
  {
   "cell_type": "code",
   "execution_count": 29,
   "metadata": {},
   "outputs": [
    {
     "data": {
      "text/plain": [
       "[[ 0.03551096 -0.50102866 -0.03100579  0.10778319]]"
      ]
     },
     "execution_count": 29,
     "metadata": {},
     "output_type": "execute_result"
    }
   ],
   "source": [
    "model.gradientDescent(x,y,0)\n",
    "model.layers[0].db"
   ]
  },
  {
   "cell_type": "code",
   "execution_count": 49,
   "metadata": {},
   "outputs": [
    {
     "data": {
      "text/plain": [
       "<matplotlib.collections.PathCollection at 0x7ff7891ee400>"
      ]
     },
     "execution_count": 49,
     "metadata": {},
     "output_type": "execute_result"
    },
    {
     "data": {
      "image/png": "[encoded data removed]",
      "text/plain": [
       "<Figure size 432x288 with 1 Axes>"
      ]
     },
     "metadata": {
      "needs_background": "light"
     },
     "output_type": "display_data"
    }
   ],
   "source": [
    "l = 0\n",
    "plt.scatter(dw[l],model.layers[l].dw.get().flatten())\n",
    "plt.scatter(db[l],model.layers[l].db.get().flatten())"
   ]
  },
  {
   "cell_type": "code",
   "execution_count": 4,
   "metadata": {},
   "outputs": [
    {
     "name": "stdout",
     "output_type": "stream",
     "text": [
      "The autoreload extension is already loaded. To reload it, use:\n",
      "  %reload_ext autoreload\n"
     ]
    },
    {
     "ename": "KeyError",
     "evalue": "'sigma'",
     "output_type": "error",
     "traceback": [
      "\u001b[0;31m---------------------------------------------------------------------------\u001b[0m",
      "\u001b[0;31mKeyError\u001b[0m                                  Traceback (most recent call last)",
      "\u001b[0;32m<ipython-input-4-cbc9683d2c59>\u001b[0m in \u001b[0;36m<module>\u001b[0;34m\u001b[0m\n\u001b[1;32m      9\u001b[0m \u001b[0mY\u001b[0m \u001b[0;34m=\u001b[0m \u001b[0mconv\u001b[0m\u001b[0;34m.\u001b[0m\u001b[0mforwardPropagate\u001b[0m\u001b[0;34m(\u001b[0m\u001b[0mym1\u001b[0m\u001b[0;34m)\u001b[0m\u001b[0;34m\u001b[0m\u001b[0;34m\u001b[0m\u001b[0m\n\u001b[1;32m     10\u001b[0m \u001b[0me\u001b[0m \u001b[0;34m=\u001b[0m \u001b[0mTensor\u001b[0m\u001b[0;34m(\u001b[0m\u001b[0mY\u001b[0m\u001b[0;34m.\u001b[0m\u001b[0mget\u001b[0m\u001b[0;34m(\u001b[0m\u001b[0;34m)\u001b[0m\u001b[0;34m)\u001b[0m\u001b[0;34m\u001b[0m\u001b[0;34m\u001b[0m\u001b[0m\n\u001b[0;32m---> 11\u001b[0;31m \u001b[0mconv\u001b[0m\u001b[0;34m.\u001b[0m\u001b[0mbackwardPropagate\u001b[0m\u001b[0;34m(\u001b[0m\u001b[0mY\u001b[0m\u001b[0;34m=\u001b[0m\u001b[0mY\u001b[0m\u001b[0;34m,\u001b[0m\u001b[0me\u001b[0m\u001b[0;34m=\u001b[0m\u001b[0me\u001b[0m\u001b[0;34m,\u001b[0m \u001b[0mlrate\u001b[0m\u001b[0;34m=\u001b[0m\u001b[0;36m0\u001b[0m\u001b[0;34m)\u001b[0m\u001b[0;34m\u001b[0m\u001b[0;34m\u001b[0m\u001b[0m\n\u001b[0m\u001b[1;32m     12\u001b[0m \u001b[0;34m\u001b[0m\u001b[0m\n\u001b[1;32m     13\u001b[0m \u001b[0mprint\u001b[0m\u001b[0;34m(\u001b[0m\u001b[0mconv\u001b[0m\u001b[0;34m.\u001b[0m\u001b[0mdb\u001b[0m\u001b[0;34m.\u001b[0m\u001b[0mshape\u001b[0m\u001b[0;34m)\u001b[0m\u001b[0;34m\u001b[0m\u001b[0;34m\u001b[0m\u001b[0m\n",
      "\u001b[0;32m~/Documents/Personal Proyects/Neural Network/NeuralNetwork.py\u001b[0m in \u001b[0;36mbackwardPropagate\u001b[0;34m(self, **kwargs)\u001b[0m\n\u001b[1;32m    151\u001b[0m         \u001b[0;32mif\u001b[0m \u001b[0;34m'sigma'\u001b[0m \u001b[0;32min\u001b[0m \u001b[0mkwargs\u001b[0m\u001b[0;34m:\u001b[0m\u001b[0;34m\u001b[0m\u001b[0;34m\u001b[0m\u001b[0m\n\u001b[1;32m    152\u001b[0m             \u001b[0mself\u001b[0m\u001b[0;34m.\u001b[0m\u001b[0mcomputedb\u001b[0m\u001b[0;34m(\u001b[0m\u001b[0mkwargs\u001b[0m\u001b[0;34m[\u001b[0m\u001b[0;34m'sigma'\u001b[0m\u001b[0;34m]\u001b[0m\u001b[0;34m)\u001b[0m\u001b[0;34m\u001b[0m\u001b[0;34m\u001b[0m\u001b[0m\n\u001b[0;32m--> 153\u001b[0;31m         \u001b[0mself\u001b[0m\u001b[0;34m.\u001b[0m\u001b[0mcomputeGradients\u001b[0m\u001b[0;34m(\u001b[0m\u001b[0mself\u001b[0m\u001b[0;34m.\u001b[0m\u001b[0mym1\u001b[0m\u001b[0;34m,\u001b[0m \u001b[0mkwargs\u001b[0m\u001b[0;34m[\u001b[0m\u001b[0;34m'sigma'\u001b[0m\u001b[0;34m]\u001b[0m\u001b[0;34m)\u001b[0m\u001b[0;34m\u001b[0m\u001b[0;34m\u001b[0m\u001b[0m\n\u001b[0m\u001b[1;32m    154\u001b[0m         \u001b[0mself\u001b[0m\u001b[0;34m.\u001b[0m\u001b[0mcomputeLocalGradient\u001b[0m\u001b[0;34m(\u001b[0m\u001b[0;34m)\u001b[0m\u001b[0;34m\u001b[0m\u001b[0;34m\u001b[0m\u001b[0m\n\u001b[1;32m    155\u001b[0m         \u001b[0mself\u001b[0m\u001b[0;34m.\u001b[0m\u001b[0mlearningRule\u001b[0m\u001b[0;34m(\u001b[0m\u001b[0mnp\u001b[0m\u001b[0;34m.\u001b[0m\u001b[0mfloat32\u001b[0m\u001b[0;34m(\u001b[0m\u001b[0mkwargs\u001b[0m\u001b[0;34m[\u001b[0m\u001b[0;34m'lrate'\u001b[0m\u001b[0;34m]\u001b[0m\u001b[0;34m)\u001b[0m\u001b[0;34m)\u001b[0m\u001b[0;34m\u001b[0m\u001b[0;34m\u001b[0m\u001b[0m\n",
      "\u001b[0;31mKeyError\u001b[0m: 'sigma'"
     ]
    }
   ],
   "source": [
    "%load_ext autoreload\n",
    "from NeuralNetwork import *\n",
    "programConv = cl.Program(context, open('kernelsConv.cpp').read()).build()\n",
    "conv = Conv((5,5),4,0,(28,28,3),(2,2),sigmoid)\n",
    "\n",
    "conv.allocateMemory(10)\n",
    "\n",
    "ym1 = Tensor(np.random.randn(10,28,28,3))\n",
    "Y = conv.forwardPropagate(ym1)\n",
    "e = Tensor(Y.get())\n",
    "conv.backwardPropagate(Y=Y,e=e, lrate=0)\n",
    "\n",
    "print(conv.db.shape)\n",
    "conv.db"
   ]
  },
  {
   "cell_type": "code",
   "execution_count": null,
   "metadata": {},
   "outputs": [],
   "source": []
  },
  {
   "cell_type": "code",
   "execution_count": null,
   "metadata": {},
   "outputs": [
    {
     "data": {
      "text/plain": [
       "[[[[5. 5. 5. 5. 5. 5. 5. 5. 5. 5.]\n",
       "   [5. 5. 5. 5. 5. 5. 5. 5. 5. 5.]\n",
       "   [5. 5. 5. 5. 5. 5. 5. 5. 5. 5.]\n",
       "   [5. 5. 5. 5. 5. 5. 5. 5. 5. 5.]\n",
       "   [5. 5. 5. 5. 5. 5. 5. 5. 5. 5.]\n",
       "   [5. 5. 5. 5. 5. 5. 5. 5. 5. 5.]\n",
       "   [5. 5. 5. 5. 5. 5. 5. 5. 5. 5.]\n",
       "   [5. 5. 5. 5. 5. 5. 5. 5. 5. 5.]]\n",
       "\n",
       "  [[5. 5. 5. 5. 5. 5. 5. 5. 5. 5.]\n",
       "   [5. 5. 5. 5. 5. 5. 5. 5. 5. 5.]\n",
       "   [5. 5. 5. 5. 5. 5. 5. 5. 5. 5.]\n",
       "   [5. 5. 5. 5. 5. 5. 5. 5. 5. 5.]\n",
       "   [5. 5. 5. 5. 5. 5. 5. 5. 5. 5.]\n",
       "   [5. 5. 5. 5. 5. 5. 5. 5. 5. 5.]\n",
       "   [5. 5. 5. 5. 5. 5. 5. 5. 5. 5.]\n",
       "   [5. 5. 5. 5. 5. 5. 5. 5. 5. 5.]]\n",
       "\n",
       "  [[5. 5. 5. 5. 5. 5. 5. 5. 5. 5.]\n",
       "   [5. 5. 5. 5. 5. 5. 5. 5. 5. 5.]\n",
       "   [5. 5. 5. 5. 5. 5. 5. 5. 5. 5.]\n",
       "   [5. 5. 5. 5. 5. 5. 5. 5. 5. 5.]\n",
       "   [5. 5. 5. 5. 5. 5. 5. 5. 5. 5.]\n",
       "   [5. 5. 5. 5. 5. 5. 5. 5. 5. 5.]\n",
       "   [5. 5. 5. 5. 5. 5. 5. 5. 5. 5.]\n",
       "   [5. 5. 5. 5. 5. 5. 5. 5. 5. 5.]]\n",
       "\n",
       "  [[5. 5. 5. 5. 5. 5. 5. 5. 5. 5.]\n",
       "   [5. 5. 5. 5. 5. 5. 5. 5. 5. 5.]\n",
       "   [5. 5. 5. 5. 5. 5. 5. 5. 5. 5.]\n",
       "   [5. 5. 5. 5. 5. 5. 5. 5. 5. 5.]\n",
       "   [5. 5. 5. 5. 5. 5. 5. 5. 5. 5.]\n",
       "   [5. 5. 5. 5. 5. 5. 5. 5. 5. 5.]\n",
       "   [5. 5. 5. 5. 5. 5. 5. 5. 5. 5.]\n",
       "   [5. 5. 5. 5. 5. 5. 5. 5. 5. 5.]]\n",
       "\n",
       "  [[5. 5. 5. 5. 5. 5. 5. 5. 5. 5.]\n",
       "   [5. 5. 5. 5. 5. 5. 5. 5. 5. 5.]\n",
       "   [5. 5. 5. 5. 5. 5. 5. 5. 5. 5.]\n",
       "   [5. 5. 5. 5. 5. 5. 5. 5. 5. 5.]\n",
       "   [5. 5. 5. 5. 5. 5. 5. 5. 5. 5.]\n",
       "   [5. 5. 5. 5. 5. 5. 5. 5. 5. 5.]\n",
       "   [5. 5. 5. 5. 5. 5. 5. 5. 5. 5.]\n",
       "   [5. 5. 5. 5. 5. 5. 5. 5. 5. 5.]]\n",
       "\n",
       "  [[5. 5. 5. 5. 5. 5. 5. 5. 5. 5.]\n",
       "   [5. 5. 5. 5. 5. 5. 5. 5. 5. 5.]\n",
       "   [5. 5. 5. 5. 5. 5. 5. 5. 5. 5.]\n",
       "   [5. 5. 5. 5. 5. 5. 5. 5. 5. 5.]\n",
       "   [5. 5. 5. 5. 5. 5. 5. 5. 5. 5.]\n",
       "   [5. 5. 5. 5. 5. 5. 5. 5. 5. 5.]\n",
       "   [5. 5. 5. 5. 5. 5. 5. 5. 5. 5.]\n",
       "   [5. 5. 5. 5. 5. 5. 5. 5. 5. 5.]]\n",
       "\n",
       "  [[5. 5. 5. 5. 5. 5. 5. 5. 5. 5.]\n",
       "   [5. 5. 5. 5. 5. 5. 5. 5. 5. 5.]\n",
       "   [5. 5. 5. 5. 5. 5. 5. 5. 5. 5.]\n",
       "   [5. 5. 5. 5. 5. 5. 5. 5. 5. 5.]\n",
       "   [5. 5. 5. 5. 5. 5. 5. 5. 5. 5.]\n",
       "   [5. 5. 5. 5. 5. 5. 5. 5. 5. 5.]\n",
       "   [5. 5. 5. 5. 5. 5. 5. 5. 5. 5.]\n",
       "   [5. 5. 5. 5. 5. 5. 5. 5. 5. 5.]]\n",
       "\n",
       "  [[5. 5. 5. 5. 5. 5. 5. 5. 5. 5.]\n",
       "   [5. 5. 5. 5. 5. 5. 5. 5. 5. 5.]\n",
       "   [5. 5. 5. 5. 5. 5. 5. 5. 5. 5.]\n",
       "   [5. 5. 5. 5. 5. 5. 5. 5. 5. 5.]\n",
       "   [5. 5. 5. 5. 5. 5. 5. 5. 5. 5.]\n",
       "   [5. 5. 5. 5. 5. 5. 5. 5. 5. 5.]\n",
       "   [5. 5. 5. 5. 5. 5. 5. 5. 5. 5.]\n",
       "   [5. 5. 5. 5. 5. 5. 5. 5. 5. 5.]]]]"
      ]
     },
     "execution_count": 2,
     "metadata": {},
     "output_type": "execute_result"
    }
   ],
   "source": [
    "conv = Conv((2,2),10,0,(10,10,1),(1,1),sigmoid)\n",
    "conv.allocateMemory(1)\n",
    "conv.w.set(np.ones(conv.w.shape))\n",
    "conv.b.set(np.ones(conv.b.shape))\n",
    "conv.forwardPropagate(Tensor(np.ones((1,10,10,1))))\n",
    "conv.v"
   ]
  }
 ],
 "metadata": {
  "kernelspec": {
   "display_name": "Python 3",
   "language": "python",
   "name": "python3"
  },
  "language_info": {
   "codemirror_mode": {
    "name": "ipython",
    "version": 3
   },
   "file_extension": ".py",
   "mimetype": "text/x-python",
   "name": "python",
   "nbconvert_exporter": "python",
   "pygments_lexer": "ipython3",
   "version": "3.8.8"
  }
 },
 "nbformat": 4,
 "nbformat_minor": 2
}
