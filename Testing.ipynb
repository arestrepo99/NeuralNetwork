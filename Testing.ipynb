{
 "cells": [
  {
   "cell_type": "code",
   "execution_count": 2,
   "metadata": {},
   "outputs": [],
   "source": [
    "%load_ext autoreload\n",
    "%autoreload 2"
   ]
  },
  {
   "cell_type": "code",
   "execution_count": 22,
   "metadata": {},
   "outputs": [
    {
     "data": {
      "text/plain": [
       "(5, 5, 1)"
      ]
     },
     "execution_count": 22,
     "metadata": {},
     "output_type": "execute_result"
    }
   ],
   "source": [
    "conv.outputShape"
   ]
  },
  {
   "cell_type": "code",
   "execution_count": 14,
   "metadata": {},
   "outputs": [
    {
     "name": "stdout",
     "output_type": "stream",
     "text": [
      "(10, 10, 1)\n",
      "[[False False False False  True]\n",
      " [False False False False False]\n",
      " [False False False False False]\n",
      " [False False False False False]\n",
      " [False False False False False]]\n",
      "[[False False False False False False  True  True  True  True]\n",
      " [False False False False False False  True  True  True  True]\n",
      " [False False False False False False  True  True  True  True]\n",
      " [False False False False False False False False False False]\n",
      " [False False False False False False False False False False]\n",
      " [False False False False False False False False False False]\n",
      " [False False False False False False False False False False]\n",
      " [False False False False False False False False False False]\n",
      " [False False False False False False False False False False]\n",
      " [False False False False False False False False False False]]\n"
     ]
    }
   ],
   "source": [
    "from NeuralNetwork import NeuralNetwork\n",
    "from Layers import Dense, Conv, Reshape, sigmoid\n",
    "from tests import *\n",
    "from LayerTests.Convolutional import computeLocalGradient\n",
    "from LayerTests.Convolutional import *\n",
    "import matplotlib.pyplot as plt\n",
    "\n",
    "conv = Conv((5,5),1,2,(2,2),sigmoid,inputShape=(10,10,1))\n",
    "conv.allocateMemory(1)\n",
    "ym1 = Tensor(np.arange(100).reshape(conv.batchSize,*conv.inputShape))\n",
    "sigmaOut = Tensor((conv.batchSize,*conv.outputShape))\n",
    "print(conv.inputShape)\n",
    "\n",
    "\n",
    "i1 = 4\n",
    "j1 = 0\n",
    "\n",
    "output = runCPUKernel(forwardPropagate,conv.GPUForwardPropagate,(ym1,),ind=[0,0,i1*5+j1])\n",
    "ym1, v, w, b = output[0],output[-3],output[-2],output[-1] \n",
    "print(v.accessed.squeeze())\n",
    "print(ym1.accessed.squeeze())\n",
    "\n",
    "\n",
    "\n",
    "output = runCPUKernel(computeLocalGradient,conv.computeLocalGradient,(sigmaOut,))\n",
    "#output[0].array[np.logical_not(output[0].accessed)] = 0\n",
    "#print(output[0].array.squeeze())\n",
    "\n"
   ]
  },
  {
   "cell_type": "code",
   "execution_count": 15,
   "metadata": {},
   "outputs": [
    {
     "name": "stdout",
     "output_type": "stream",
     "text": [
      "\u001b[91mFAILED\u001b[0m Layer 0 dw r2= 0.67, m= 2.91, b= -0.0,\n",
      "\u001b[91mFAILED\u001b[0m Layer 0 db r2= 0.88, m= 3.39, b= 0.0,\n",
      "\u001b[92mPASSED\u001b[0m Layer 1 dw r2= 1.0, m= 3.04, b= 0.0,\n",
      "\u001b[92mPASSED\u001b[0m Layer 1 db r2= 1.0, m= 3.05, b= 0.0,\n",
      "\u001b[92mPASSED\u001b[0m Layer 3 dw r2= 1.0, m= 3.08, b= -0.0,\n",
      "\u001b[92mPASSED\u001b[0m Layer 3 db r2= 1.0, m= 3.11, b= -0.0,\n"
     ]
    },
    {
     "data": {
      "text/plain": [
       "\t\t MODEL SUMMARY: \n",
       "Input: \t\t (10, 10, 1)\n",
       "Conv Layer: \t\t(5, 5, 6)\n",
       "Conv Layer: \t\t(2, 2, 6)\n",
       "Reshape Layer: \t\t(24,)\n",
       "Dense Layer: \t\t(3,)"
      ]
     },
     "execution_count": 15,
     "metadata": {},
     "output_type": "execute_result"
    }
   ],
   "source": [
    "from NeuralNetwork import NeuralNetwork\n",
    "from Layers import Dense, Conv, Reshape, sigmoid\n",
    "from tests import *\n",
    "from LayerTests.Convolutional import *\n",
    "import matplotlib.pyplot as plt\n",
    "from tests import gradientTest\n",
    "model = NeuralNetwork([Conv((5,5),6,2,(2,2),sigmoid,inputShape=(10,10,1)),\n",
    "                        #Conv((3,3),6,0,(1,1),sigmoid),\n",
    "                        Conv((2,2),6,0,(2,2),sigmoid), # GRADIENT LOCALS NOT WORKING PROPPERLY\n",
    "                        Reshape(-1), \n",
    "                        Dense(3,sigmoid)])\n",
    "\n",
    "dw,db,plotter = gradientTest(model)\n",
    "model"
   ]
  },
  {
   "cell_type": "code",
   "execution_count": 7,
   "metadata": {},
   "outputs": [
    {
     "data": {
      "image/png": "[encoded data removed]",
      "text/plain": [
       "<Figure size 432x288 with 1 Axes>"
      ]
     },
     "metadata": {
      "needs_background": "light"
     },
     "output_type": "display_data"
    }
   ],
   "source": [
    "plotter(0)"
   ]
  },
  {
   "cell_type": "code",
   "execution_count": 3,
   "metadata": {},
   "outputs": [
    {
     "name": "stdout",
     "output_type": "stream",
     "text": [
      "0.54297835\n",
      "\u001b[92mPASSED\u001b[0m forwardPropagate\n",
      "\u001b[92mPASSED\u001b[0m sigmoidTest\n",
      "\u001b[92mPASSED\u001b[0m computedb\n",
      "\u001b[92mPASSED\u001b[0m computeGradients\n",
      "\u001b[92mPASSED\u001b[0m computeLocalGradient\n",
      "1.0\n",
      "1.0\n",
      "1.0\n",
      "1.0\n",
      "1.0\n",
      "1.0\n",
      "\u001b[91mFAILED\u001b[0m learningRule\n",
      "Param Index 6 with name \"w\" was off by 9.701629638671875\n",
      "Param Index 7 with name \"b\" was off by 8.960834503173828\n",
      "\n",
      "-42.398045\n"
     ]
    }
   ],
   "source": [
    "from NeuralNetwork import NeuralNetwork\n",
    "from Layers import Dense, Conv, Reshape, sigmoid\n",
    "from tests import *\n",
    "from LayerTests.Convolutional import *\n",
    "import matplotlib.pyplot as plt\n",
    "from tests import gradientTest\n",
    "model = NeuralNetwork([Conv((5,5),6,2,(2,2),sigmoid,inputShape=(10,10,1)),\n",
    "                        #Conv((3,3),6,0,(1,1),sigmoid),\n",
    "                        Conv((2,2),6,0,(2,2),sigmoid),\n",
    "                        Reshape(-1), \n",
    "                        Dense(3,sigmoid)])\n",
    "model.allocateMemory(1)"
   ]
  },
  {
   "cell_type": "code",
   "execution_count": 16,
   "metadata": {},
   "outputs": [
    {
     "name": "stdout",
     "output_type": "stream",
     "text": [
      "\u001b[91mFAILED\u001b[0m Layer 0 dw r2= 0.57, m= 3.04, b= 0.0,\n",
      "\u001b[91mFAILED\u001b[0m Layer 0 db r2= 0.89, m= 5.5, b= 0.0,\n",
      "\u001b[92mPASSED\u001b[0m Layer 1 dw r2= 1.0, m= 2.98, b= -0.0,\n",
      "\u001b[92mPASSED\u001b[0m Layer 1 db r2= 1.0, m= 2.99, b= -0.0,\n",
      "\u001b[92mPASSED\u001b[0m Layer 3 dw r2= 1.0, m= 2.9, b= 0.0,\n",
      "\u001b[92mPASSED\u001b[0m Layer 3 db r2= 1.0, m= 2.9, b= -0.0,\n"
     ]
    },
    {
     "data": {
      "text/plain": [
       "\t\t MODEL SUMMARY: \n",
       "Input: \t\t (10, 10, 1)\n",
       "Conv Layer: \t\t(5, 5, 6)\n",
       "Conv Layer: \t\t(2, 2, 6)\n",
       "Reshape Layer: \t\t(24,)\n",
       "Dense Layer: \t\t(3,)"
      ]
     },
     "execution_count": 16,
     "metadata": {},
     "output_type": "execute_result"
    }
   ],
   "source": [
    "from NeuralNetwork import NeuralNetwork\n",
    "from Layers import Dense, Conv, Reshape, sigmoid\n",
    "from tests import *\n",
    "from LayerTests.Convolutional import *\n",
    "import matplotlib.pyplot as plt\n",
    "from tests import gradientTest\n",
    "model = NeuralNetwork([Conv((5,5),6,2,(2,2),sigmoid,inputShape=(10,10,1)),\n",
    "                        #Conv((3,3),6,0,(1,1),sigmoid),\n",
    "                        Conv((2,2),6,0,(2,2),sigmoid),\n",
    "                        Reshape(-1), \n",
    "                        Dense(3,sigmoid)])\n",
    "\n",
    "dw,db,plotter = gradientTest(model)\n",
    "model"
   ]
  },
  {
   "cell_type": "code",
   "execution_count": 3,
   "metadata": {},
   "outputs": [
    {
     "name": "stdout",
     "output_type": "stream",
     "text": [
      "\u001b[92mPASSED\u001b[0m forwardPropagate\n",
      "\u001b[92mPASSED\u001b[0m sigmoidTest\n",
      "\u001b[92mPASSED\u001b[0m computedb\n",
      "\u001b[92mPASSED\u001b[0m computeGradients\n",
      "\u001b[92mPASSED\u001b[0m computeLocalGradient\n",
      "\u001b[91mFAILED\u001b[0m learningRule\n",
      "Param Index 6 with name \"w\" was off by 4.580564975738525\n",
      "Param Index 7 with name \"b\" was off by 0.7990346550941467\n",
      "\n"
     ]
    }
   ],
   "source": [
    "from tests import *\n",
    "from LayerTests.Convolutional import *\n",
    "batchSize = 10\n",
    "conv = Conv((5,5),3,1,(2,2),sigmoid, inputShape=(10,10,1))\n",
    "conv.allocateMemory(batchSize)\n",
    "ym1 = Tensor(np.random.randn(batchSize,*conv.inputShape))\n",
    "sigmaOut = Tensor(np.random.randn(batchSize,*conv.outputShape))\n",
    "\n"
   ]
  },
  {
   "cell_type": "code",
   "execution_count": 9,
   "metadata": {},
   "outputs": [
    {
     "data": {
      "text/plain": [
       "(10, 8, 8, 2)"
      ]
     },
     "execution_count": 9,
     "metadata": {},
     "output_type": "execute_result"
    }
   ],
   "source": [
    "sigmaOut.shape"
   ]
  },
  {
   "cell_type": "code",
   "execution_count": 8,
   "metadata": {},
   "outputs": [
    {
     "data": {
      "text/plain": [
       "array([[[0., 0.],\n",
       "        [1., 1.],\n",
       "        [2., 2.],\n",
       "        [3., 3.],\n",
       "        [4., 4.],\n",
       "        [5., 5.],\n",
       "        [6., 6.],\n",
       "        [7., 7.]],\n",
       "\n",
       "       [[7., 7.],\n",
       "        [8., 1.],\n",
       "        [2., 2.],\n",
       "        [3., 3.],\n",
       "        [4., 4.],\n",
       "        [5., 5.],\n",
       "        [6., 6.],\n",
       "        [7., 7.]],\n",
       "\n",
       "       [[7., 7.],\n",
       "        [8., 1.],\n",
       "        [2., 2.],\n",
       "        [3., 3.],\n",
       "        [4., 4.],\n",
       "        [5., 5.],\n",
       "        [6., 6.],\n",
       "        [7., 7.]],\n",
       "\n",
       "       [[7., 7.],\n",
       "        [8., 1.],\n",
       "        [2., 2.],\n",
       "        [3., 3.],\n",
       "        [4., 4.],\n",
       "        [5., 5.],\n",
       "        [6., 6.],\n",
       "        [7., 7.]],\n",
       "\n",
       "       [[7., 7.],\n",
       "        [8., 1.],\n",
       "        [2., 2.],\n",
       "        [3., 3.],\n",
       "        [4., 4.],\n",
       "        [5., 5.],\n",
       "        [6., 6.],\n",
       "        [7., 7.]],\n",
       "\n",
       "       [[7., 7.],\n",
       "        [8., 1.],\n",
       "        [2., 2.],\n",
       "        [3., 3.],\n",
       "        [4., 4.],\n",
       "        [5., 5.],\n",
       "        [6., 6.],\n",
       "        [7., 7.]],\n",
       "\n",
       "       [[7., 7.],\n",
       "        [8., 1.],\n",
       "        [2., 2.],\n",
       "        [3., 3.],\n",
       "        [4., 4.],\n",
       "        [5., 5.],\n",
       "        [6., 6.],\n",
       "        [7., 7.]],\n",
       "\n",
       "       [[7., 7.],\n",
       "        [8., 1.],\n",
       "        [2., 2.],\n",
       "        [3., 3.],\n",
       "        [4., 4.],\n",
       "        [5., 5.],\n",
       "        [6., 6.],\n",
       "        [7., 7.]],\n",
       "\n",
       "       [[7., 7.],\n",
       "        [8., 1.],\n",
       "        [2., 2.],\n",
       "        [3., 3.],\n",
       "        [4., 4.],\n",
       "        [5., 5.],\n",
       "        [6., 6.],\n",
       "        [7., 7.]],\n",
       "\n",
       "       [[7., 7.],\n",
       "        [8., 1.],\n",
       "        [2., 2.],\n",
       "        [3., 3.],\n",
       "        [4., 4.],\n",
       "        [5., 5.],\n",
       "        [6., 6.],\n",
       "        [7., 7.]]], dtype=float32)"
      ]
     },
     "execution_count": 8,
     "metadata": {},
     "output_type": "execute_result"
    }
   ],
   "source": [
    "sigmaOut.get()[:,:,1]"
   ]
  },
  {
   "cell_type": "code",
   "execution_count": 2,
   "metadata": {},
   "outputs": [
    {
     "ename": "NameError",
     "evalue": "name 'out2' is not defined",
     "output_type": "error",
     "traceback": [
      "\u001b[0;31m---------------------------------------------------------------------------\u001b[0m",
      "\u001b[0;31mNameError\u001b[0m                                 Traceback (most recent call last)",
      "\u001b[0;32m<ipython-input-2-759406e12ada>\u001b[0m in \u001b[0;36m<module>\u001b[0;34m\u001b[0m\n\u001b[0;32m----> 1\u001b[0;31m \u001b[0mprint\u001b[0m\u001b[0;34m(\u001b[0m\u001b[0mout2\u001b[0m\u001b[0;34m[\u001b[0m\u001b[0;34m'not accesed ym1'\u001b[0m\u001b[0;34m]\u001b[0m\u001b[0;34m[\u001b[0m\u001b[0;36m0\u001b[0m\u001b[0;34m,\u001b[0m\u001b[0;34m:\u001b[0m\u001b[0;34m,\u001b[0m\u001b[0;34m:\u001b[0m\u001b[0;34m,\u001b[0m\u001b[0;36m0\u001b[0m\u001b[0;34m]\u001b[0m\u001b[0;34m)\u001b[0m\u001b[0;34m\u001b[0m\u001b[0;34m\u001b[0m\u001b[0m\n\u001b[0m",
      "\u001b[0;31mNameError\u001b[0m: name 'out2' is not defined"
     ]
    }
   ],
   "source": [
    "print(out2['not accesed ym1'][0,:,:,0])"
   ]
  },
  {
   "cell_type": "code",
   "execution_count": null,
   "metadata": {},
   "outputs": [],
   "source": []
  }
 ],
 "metadata": {
  "kernelspec": {
   "display_name": "Python 3",
   "language": "python",
   "name": "python3"
  },
  "language_info": {
   "codemirror_mode": {
    "name": "ipython",
    "version": 3
   },
   "file_extension": ".py",
   "mimetype": "text/x-python",
   "name": "python",
   "nbconvert_exporter": "python",
   "pygments_lexer": "ipython3",
   "version": "3.8.8"
  }
 },
 "nbformat": 4,
 "nbformat_minor": 2
}
